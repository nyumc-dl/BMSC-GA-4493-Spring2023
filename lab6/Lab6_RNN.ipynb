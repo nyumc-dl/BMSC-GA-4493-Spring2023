{
  "cells": [
    {
      "cell_type": "markdown",
      "metadata": {
        "id": "Dqb6_SeUfkG7"
      },
      "source": [
        "# Lab 6: RNNs & Word Embeddings"
      ]
    },
    {
      "cell_type": "code",
      "execution_count": 12,
      "metadata": {
        "colab": {
          "base_uri": "https://localhost:8080/"
        },
        "id": "kOjobxhbfkHA",
        "outputId": "8c13d622-0fc8-44d9-89fd-620c6480d7c9"
      },
      "outputs": [
        {
          "output_type": "stream",
          "name": "stdout",
          "text": [
            "There are 1 GPU(s) available.\n",
            "We will use the GPU: Tesla T4\n",
            "Device being used: cuda\n"
          ]
        },
        {
          "output_type": "stream",
          "name": "stderr",
          "text": [
            "[nltk_data] Downloading package punkt to /root/nltk_data...\n",
            "[nltk_data]   Package punkt is already up-to-date!\n"
          ]
        }
      ],
      "source": [
        "import re\n",
        "import os\n",
        "import time\n",
        "import pandas as pd\n",
        "import numpy as np\n",
        "from collections import Counter\n",
        "from sklearn.model_selection import train_test_split\n",
        "from sklearn.metrics.pairwise import cosine_similarity\n",
        "import gensim\n",
        "from gensim.models import KeyedVectors\n",
        "import nltk\n",
        "nltk.download('punkt')\n",
        "from nltk.tokenize import word_tokenize\n",
        "from torch.nn.utils.rnn import pad_sequence\n",
        "from torch.nn.utils.rnn import pack_padded_sequence\n",
        "import torch\n",
        "import torch.nn as nn\n",
        "import torch.nn.functional as F\n",
        "from sklearn.metrics import roc_auc_score\n",
        "from torch.utils.data import DataLoader, Dataset\n",
        "\n",
        "# If there's a GPU available...\n",
        "if torch.cuda.is_available():    \n",
        "\n",
        "    # Tell PyTorch to use the GPU.    \n",
        "    device = torch.device(\"cuda\")\n",
        "\n",
        "    print('There are %d GPU(s) available.' % torch.cuda.device_count())\n",
        "\n",
        "    print('We will use the GPU:', torch.cuda.get_device_name(0))\n",
        "\n",
        "# If not...\n",
        "else:\n",
        "    print('No GPU available, using the CPU instead.')\n",
        "    device = torch.device(\"cpu\")\n",
        "\n",
        "print(\"Device being used: %s\" %device)"
      ]
    },
    {
      "cell_type": "markdown",
      "metadata": {
        "id": "8YrCdiD7fkHD"
      },
      "source": [
        "## Goal:\n",
        "- Understand the mechanics of RNNs in Pytorch\n",
        "- Train RNN based neural networks on text data\n",
        "- Basics of word embedding and how to use them"
      ]
    },
    {
      "cell_type": "markdown",
      "metadata": {
        "id": "97W7LJNtfkHE",
        "toc-hr-collapsed": false
      },
      "source": [
        "## Problem Setup"
      ]
    },
    {
      "cell_type": "markdown",
      "metadata": {
        "id": "ClzLmAhAfkHE"
      },
      "source": [
        "### Dataset\n",
        "Download the two files in the data folder [here](https://drive.google.com/drive/folders/1KBUyfU87zz8eOZwr2ifDi2Z4LBHlSZ28?usp=sharing). Save the folder in your google drive."
      ]
    },
    {
      "cell_type": "code",
      "source": [
        "from google.colab import drive\n",
        "drive.mount('/content/gdrive')"
      ],
      "metadata": {
        "colab": {
          "base_uri": "https://localhost:8080/"
        },
        "id": "dp8lE_tOiRJ_",
        "outputId": "24f0765a-a872-4c8e-ae70-8e58757d3b2d"
      },
      "execution_count": 13,
      "outputs": [
        {
          "output_type": "stream",
          "name": "stdout",
          "text": [
            "Drive already mounted at /content/gdrive; to attempt to forcibly remount, call drive.mount(\"/content/gdrive\", force_remount=True).\n"
          ]
        }
      ]
    },
    {
      "cell_type": "markdown",
      "metadata": {
        "id": "fludClYgfkHF"
      },
      "source": [
        "For the first part, we will be using the [First GOP Debate Twitter Sentiment dataset](https://www.kaggle.com/ngyptr/lstm-sentiment-analysis-keras/data), which contains Tweets after the first GOP debate and their sentiments (among other stuff)."
      ]
    },
    {
      "cell_type": "code",
      "execution_count": 14,
      "metadata": {
        "colab": {
          "base_uri": "https://localhost:8080/",
          "height": 490
        },
        "id": "KqNi_76ofkHG",
        "outputId": "0a295c5e-37b8-4239-afba-d75790bd79df"
      },
      "outputs": [
        {
          "output_type": "execute_result",
          "data": {
            "text/plain": [
              "   id               candidate  candidate_confidence relevant_yn  \\\n",
              "0   1  No candidate mentioned                   1.0         yes   \n",
              "1   2            Scott Walker                   1.0         yes   \n",
              "2   3  No candidate mentioned                   1.0         yes   \n",
              "3   4  No candidate mentioned                   1.0         yes   \n",
              "4   5            Donald Trump                   1.0         yes   \n",
              "\n",
              "   relevant_yn_confidence sentiment  sentiment_confidence     subject_matter  \\\n",
              "0                     1.0   Neutral                0.6578  None of the above   \n",
              "1                     1.0  Positive                0.6333  None of the above   \n",
              "2                     1.0   Neutral                0.6629  None of the above   \n",
              "3                     1.0  Positive                1.0000  None of the above   \n",
              "4                     1.0  Positive                0.7045  None of the above   \n",
              "\n",
              "   subject_matter_confidence candidate_gold  ... relevant_yn_gold  \\\n",
              "0                     1.0000            NaN  ...              NaN   \n",
              "1                     1.0000            NaN  ...              NaN   \n",
              "2                     0.6629            NaN  ...              NaN   \n",
              "3                     0.7039            NaN  ...              NaN   \n",
              "4                     1.0000            NaN  ...              NaN   \n",
              "\n",
              "  retweet_count  sentiment_gold subject_matter_gold  \\\n",
              "0             5             NaN                 NaN   \n",
              "1            26             NaN                 NaN   \n",
              "2            27             NaN                 NaN   \n",
              "3           138             NaN                 NaN   \n",
              "4           156             NaN                 NaN   \n",
              "\n",
              "                                                text tweet_coord  \\\n",
              "0  RT @NancyLeeGrahn: How did everyone feel about...         NaN   \n",
              "1  RT @ScottWalker: Didn't catch the full #GOPdeb...         NaN   \n",
              "2  RT @TJMShow: No mention of Tamir Rice and the ...         NaN   \n",
              "3  RT @RobGeorge: That Carly Fiorina is trending ...         NaN   \n",
              "4  RT @DanScavino: #GOPDebate w/ @realDonaldTrump...         NaN   \n",
              "\n",
              "               tweet_created            tweet_id  tweet_location  \\\n",
              "0  2015-08-07 09:54:46 -0700  629697200650592256             NaN   \n",
              "1  2015-08-07 09:54:46 -0700  629697199560069120             NaN   \n",
              "2  2015-08-07 09:54:46 -0700  629697199312482304             NaN   \n",
              "3  2015-08-07 09:54:45 -0700  629697197118861312           Texas   \n",
              "4  2015-08-07 09:54:45 -0700  629697196967903232             NaN   \n",
              "\n",
              "                user_timezone  \n",
              "0                       Quito  \n",
              "1                         NaN  \n",
              "2                         NaN  \n",
              "3  Central Time (US & Canada)  \n",
              "4                     Arizona  \n",
              "\n",
              "[5 rows x 21 columns]"
            ],
            "text/html": [
              "\n",
              "  <div id=\"df-ae863eb4-563c-4efd-8fe1-b7f08c0bb294\">\n",
              "    <div class=\"colab-df-container\">\n",
              "      <div>\n",
              "<style scoped>\n",
              "    .dataframe tbody tr th:only-of-type {\n",
              "        vertical-align: middle;\n",
              "    }\n",
              "\n",
              "    .dataframe tbody tr th {\n",
              "        vertical-align: top;\n",
              "    }\n",
              "\n",
              "    .dataframe thead th {\n",
              "        text-align: right;\n",
              "    }\n",
              "</style>\n",
              "<table border=\"1\" class=\"dataframe\">\n",
              "  <thead>\n",
              "    <tr style=\"text-align: right;\">\n",
              "      <th></th>\n",
              "      <th>id</th>\n",
              "      <th>candidate</th>\n",
              "      <th>candidate_confidence</th>\n",
              "      <th>relevant_yn</th>\n",
              "      <th>relevant_yn_confidence</th>\n",
              "      <th>sentiment</th>\n",
              "      <th>sentiment_confidence</th>\n",
              "      <th>subject_matter</th>\n",
              "      <th>subject_matter_confidence</th>\n",
              "      <th>candidate_gold</th>\n",
              "      <th>...</th>\n",
              "      <th>relevant_yn_gold</th>\n",
              "      <th>retweet_count</th>\n",
              "      <th>sentiment_gold</th>\n",
              "      <th>subject_matter_gold</th>\n",
              "      <th>text</th>\n",
              "      <th>tweet_coord</th>\n",
              "      <th>tweet_created</th>\n",
              "      <th>tweet_id</th>\n",
              "      <th>tweet_location</th>\n",
              "      <th>user_timezone</th>\n",
              "    </tr>\n",
              "  </thead>\n",
              "  <tbody>\n",
              "    <tr>\n",
              "      <th>0</th>\n",
              "      <td>1</td>\n",
              "      <td>No candidate mentioned</td>\n",
              "      <td>1.0</td>\n",
              "      <td>yes</td>\n",
              "      <td>1.0</td>\n",
              "      <td>Neutral</td>\n",
              "      <td>0.6578</td>\n",
              "      <td>None of the above</td>\n",
              "      <td>1.0000</td>\n",
              "      <td>NaN</td>\n",
              "      <td>...</td>\n",
              "      <td>NaN</td>\n",
              "      <td>5</td>\n",
              "      <td>NaN</td>\n",
              "      <td>NaN</td>\n",
              "      <td>RT @NancyLeeGrahn: How did everyone feel about...</td>\n",
              "      <td>NaN</td>\n",
              "      <td>2015-08-07 09:54:46 -0700</td>\n",
              "      <td>629697200650592256</td>\n",
              "      <td>NaN</td>\n",
              "      <td>Quito</td>\n",
              "    </tr>\n",
              "    <tr>\n",
              "      <th>1</th>\n",
              "      <td>2</td>\n",
              "      <td>Scott Walker</td>\n",
              "      <td>1.0</td>\n",
              "      <td>yes</td>\n",
              "      <td>1.0</td>\n",
              "      <td>Positive</td>\n",
              "      <td>0.6333</td>\n",
              "      <td>None of the above</td>\n",
              "      <td>1.0000</td>\n",
              "      <td>NaN</td>\n",
              "      <td>...</td>\n",
              "      <td>NaN</td>\n",
              "      <td>26</td>\n",
              "      <td>NaN</td>\n",
              "      <td>NaN</td>\n",
              "      <td>RT @ScottWalker: Didn't catch the full #GOPdeb...</td>\n",
              "      <td>NaN</td>\n",
              "      <td>2015-08-07 09:54:46 -0700</td>\n",
              "      <td>629697199560069120</td>\n",
              "      <td>NaN</td>\n",
              "      <td>NaN</td>\n",
              "    </tr>\n",
              "    <tr>\n",
              "      <th>2</th>\n",
              "      <td>3</td>\n",
              "      <td>No candidate mentioned</td>\n",
              "      <td>1.0</td>\n",
              "      <td>yes</td>\n",
              "      <td>1.0</td>\n",
              "      <td>Neutral</td>\n",
              "      <td>0.6629</td>\n",
              "      <td>None of the above</td>\n",
              "      <td>0.6629</td>\n",
              "      <td>NaN</td>\n",
              "      <td>...</td>\n",
              "      <td>NaN</td>\n",
              "      <td>27</td>\n",
              "      <td>NaN</td>\n",
              "      <td>NaN</td>\n",
              "      <td>RT @TJMShow: No mention of Tamir Rice and the ...</td>\n",
              "      <td>NaN</td>\n",
              "      <td>2015-08-07 09:54:46 -0700</td>\n",
              "      <td>629697199312482304</td>\n",
              "      <td>NaN</td>\n",
              "      <td>NaN</td>\n",
              "    </tr>\n",
              "    <tr>\n",
              "      <th>3</th>\n",
              "      <td>4</td>\n",
              "      <td>No candidate mentioned</td>\n",
              "      <td>1.0</td>\n",
              "      <td>yes</td>\n",
              "      <td>1.0</td>\n",
              "      <td>Positive</td>\n",
              "      <td>1.0000</td>\n",
              "      <td>None of the above</td>\n",
              "      <td>0.7039</td>\n",
              "      <td>NaN</td>\n",
              "      <td>...</td>\n",
              "      <td>NaN</td>\n",
              "      <td>138</td>\n",
              "      <td>NaN</td>\n",
              "      <td>NaN</td>\n",
              "      <td>RT @RobGeorge: That Carly Fiorina is trending ...</td>\n",
              "      <td>NaN</td>\n",
              "      <td>2015-08-07 09:54:45 -0700</td>\n",
              "      <td>629697197118861312</td>\n",
              "      <td>Texas</td>\n",
              "      <td>Central Time (US &amp; Canada)</td>\n",
              "    </tr>\n",
              "    <tr>\n",
              "      <th>4</th>\n",
              "      <td>5</td>\n",
              "      <td>Donald Trump</td>\n",
              "      <td>1.0</td>\n",
              "      <td>yes</td>\n",
              "      <td>1.0</td>\n",
              "      <td>Positive</td>\n",
              "      <td>0.7045</td>\n",
              "      <td>None of the above</td>\n",
              "      <td>1.0000</td>\n",
              "      <td>NaN</td>\n",
              "      <td>...</td>\n",
              "      <td>NaN</td>\n",
              "      <td>156</td>\n",
              "      <td>NaN</td>\n",
              "      <td>NaN</td>\n",
              "      <td>RT @DanScavino: #GOPDebate w/ @realDonaldTrump...</td>\n",
              "      <td>NaN</td>\n",
              "      <td>2015-08-07 09:54:45 -0700</td>\n",
              "      <td>629697196967903232</td>\n",
              "      <td>NaN</td>\n",
              "      <td>Arizona</td>\n",
              "    </tr>\n",
              "  </tbody>\n",
              "</table>\n",
              "<p>5 rows × 21 columns</p>\n",
              "</div>\n",
              "      <button class=\"colab-df-convert\" onclick=\"convertToInteractive('df-ae863eb4-563c-4efd-8fe1-b7f08c0bb294')\"\n",
              "              title=\"Convert this dataframe to an interactive table.\"\n",
              "              style=\"display:none;\">\n",
              "        \n",
              "  <svg xmlns=\"http://www.w3.org/2000/svg\" height=\"24px\"viewBox=\"0 0 24 24\"\n",
              "       width=\"24px\">\n",
              "    <path d=\"M0 0h24v24H0V0z\" fill=\"none\"/>\n",
              "    <path d=\"M18.56 5.44l.94 2.06.94-2.06 2.06-.94-2.06-.94-.94-2.06-.94 2.06-2.06.94zm-11 1L8.5 8.5l.94-2.06 2.06-.94-2.06-.94L8.5 2.5l-.94 2.06-2.06.94zm10 10l.94 2.06.94-2.06 2.06-.94-2.06-.94-.94-2.06-.94 2.06-2.06.94z\"/><path d=\"M17.41 7.96l-1.37-1.37c-.4-.4-.92-.59-1.43-.59-.52 0-1.04.2-1.43.59L10.3 9.45l-7.72 7.72c-.78.78-.78 2.05 0 2.83L4 21.41c.39.39.9.59 1.41.59.51 0 1.02-.2 1.41-.59l7.78-7.78 2.81-2.81c.8-.78.8-2.07 0-2.86zM5.41 20L4 18.59l7.72-7.72 1.47 1.35L5.41 20z\"/>\n",
              "  </svg>\n",
              "      </button>\n",
              "      \n",
              "  <style>\n",
              "    .colab-df-container {\n",
              "      display:flex;\n",
              "      flex-wrap:wrap;\n",
              "      gap: 12px;\n",
              "    }\n",
              "\n",
              "    .colab-df-convert {\n",
              "      background-color: #E8F0FE;\n",
              "      border: none;\n",
              "      border-radius: 50%;\n",
              "      cursor: pointer;\n",
              "      display: none;\n",
              "      fill: #1967D2;\n",
              "      height: 32px;\n",
              "      padding: 0 0 0 0;\n",
              "      width: 32px;\n",
              "    }\n",
              "\n",
              "    .colab-df-convert:hover {\n",
              "      background-color: #E2EBFA;\n",
              "      box-shadow: 0px 1px 2px rgba(60, 64, 67, 0.3), 0px 1px 3px 1px rgba(60, 64, 67, 0.15);\n",
              "      fill: #174EA6;\n",
              "    }\n",
              "\n",
              "    [theme=dark] .colab-df-convert {\n",
              "      background-color: #3B4455;\n",
              "      fill: #D2E3FC;\n",
              "    }\n",
              "\n",
              "    [theme=dark] .colab-df-convert:hover {\n",
              "      background-color: #434B5C;\n",
              "      box-shadow: 0px 1px 3px 1px rgba(0, 0, 0, 0.15);\n",
              "      filter: drop-shadow(0px 1px 2px rgba(0, 0, 0, 0.3));\n",
              "      fill: #FFFFFF;\n",
              "    }\n",
              "  </style>\n",
              "\n",
              "      <script>\n",
              "        const buttonEl =\n",
              "          document.querySelector('#df-ae863eb4-563c-4efd-8fe1-b7f08c0bb294 button.colab-df-convert');\n",
              "        buttonEl.style.display =\n",
              "          google.colab.kernel.accessAllowed ? 'block' : 'none';\n",
              "\n",
              "        async function convertToInteractive(key) {\n",
              "          const element = document.querySelector('#df-ae863eb4-563c-4efd-8fe1-b7f08c0bb294');\n",
              "          const dataTable =\n",
              "            await google.colab.kernel.invokeFunction('convertToInteractive',\n",
              "                                                     [key], {});\n",
              "          if (!dataTable) return;\n",
              "\n",
              "          const docLinkHtml = 'Like what you see? Visit the ' +\n",
              "            '<a target=\"_blank\" href=https://colab.research.google.com/notebooks/data_table.ipynb>data table notebook</a>'\n",
              "            + ' to learn more about interactive tables.';\n",
              "          element.innerHTML = '';\n",
              "          dataTable['output_type'] = 'display_data';\n",
              "          await google.colab.output.renderOutput(dataTable, element);\n",
              "          const docLink = document.createElement('div');\n",
              "          docLink.innerHTML = docLinkHtml;\n",
              "          element.appendChild(docLink);\n",
              "        }\n",
              "      </script>\n",
              "    </div>\n",
              "  </div>\n",
              "  "
            ]
          },
          "metadata": {},
          "execution_count": 14
        }
      ],
      "source": [
        "np.random.seed(1111)\n",
        "\n",
        "df = pd.read_csv('/content/gdrive/MyDrive/data/Sentiment.csv')\n",
        "df.head()"
      ]
    },
    {
      "cell_type": "markdown",
      "metadata": {
        "id": "JD_GW-x3fkHK"
      },
      "source": [
        "Let's first look at some basic intuition and stats of the data"
      ]
    },
    {
      "cell_type": "code",
      "execution_count": 15,
      "metadata": {
        "colab": {
          "base_uri": "https://localhost:8080/",
          "height": 35
        },
        "id": "-saQCovdfkHL",
        "outputId": "2875ca8e-4efe-447e-a88e-c1e21dcf7d88"
      },
      "outputs": [
        {
          "output_type": "execute_result",
          "data": {
            "text/plain": [
              "'RT @NancyLeeGrahn: How did everyone feel about the Climate Change question last night? Exactly. #GOPDebate'"
            ],
            "application/vnd.google.colaboratory.intrinsic+json": {
              "type": "string"
            }
          },
          "metadata": {},
          "execution_count": 15
        }
      ],
      "source": [
        "# Training data is a string of words\n",
        "df.loc[0, 'text']"
      ]
    },
    {
      "cell_type": "code",
      "execution_count": 16,
      "metadata": {
        "colab": {
          "base_uri": "https://localhost:8080/",
          "height": 175
        },
        "id": "GhFdZwoSfkHO",
        "outputId": "99e1bb8f-5bee-4f74-cd59-8a800a95f7ab"
      },
      "outputs": [
        {
          "output_type": "execute_result",
          "data": {
            "text/plain": [
              "           text\n",
              "sentiment      \n",
              "Negative   8493\n",
              "Neutral    3142\n",
              "Positive   2236"
            ],
            "text/html": [
              "\n",
              "  <div id=\"df-111bbecc-c255-4352-bf56-c5d95dd09f04\">\n",
              "    <div class=\"colab-df-container\">\n",
              "      <div>\n",
              "<style scoped>\n",
              "    .dataframe tbody tr th:only-of-type {\n",
              "        vertical-align: middle;\n",
              "    }\n",
              "\n",
              "    .dataframe tbody tr th {\n",
              "        vertical-align: top;\n",
              "    }\n",
              "\n",
              "    .dataframe thead th {\n",
              "        text-align: right;\n",
              "    }\n",
              "</style>\n",
              "<table border=\"1\" class=\"dataframe\">\n",
              "  <thead>\n",
              "    <tr style=\"text-align: right;\">\n",
              "      <th></th>\n",
              "      <th>text</th>\n",
              "    </tr>\n",
              "    <tr>\n",
              "      <th>sentiment</th>\n",
              "      <th></th>\n",
              "    </tr>\n",
              "  </thead>\n",
              "  <tbody>\n",
              "    <tr>\n",
              "      <th>Negative</th>\n",
              "      <td>8493</td>\n",
              "    </tr>\n",
              "    <tr>\n",
              "      <th>Neutral</th>\n",
              "      <td>3142</td>\n",
              "    </tr>\n",
              "    <tr>\n",
              "      <th>Positive</th>\n",
              "      <td>2236</td>\n",
              "    </tr>\n",
              "  </tbody>\n",
              "</table>\n",
              "</div>\n",
              "      <button class=\"colab-df-convert\" onclick=\"convertToInteractive('df-111bbecc-c255-4352-bf56-c5d95dd09f04')\"\n",
              "              title=\"Convert this dataframe to an interactive table.\"\n",
              "              style=\"display:none;\">\n",
              "        \n",
              "  <svg xmlns=\"http://www.w3.org/2000/svg\" height=\"24px\"viewBox=\"0 0 24 24\"\n",
              "       width=\"24px\">\n",
              "    <path d=\"M0 0h24v24H0V0z\" fill=\"none\"/>\n",
              "    <path d=\"M18.56 5.44l.94 2.06.94-2.06 2.06-.94-2.06-.94-.94-2.06-.94 2.06-2.06.94zm-11 1L8.5 8.5l.94-2.06 2.06-.94-2.06-.94L8.5 2.5l-.94 2.06-2.06.94zm10 10l.94 2.06.94-2.06 2.06-.94-2.06-.94-.94-2.06-.94 2.06-2.06.94z\"/><path d=\"M17.41 7.96l-1.37-1.37c-.4-.4-.92-.59-1.43-.59-.52 0-1.04.2-1.43.59L10.3 9.45l-7.72 7.72c-.78.78-.78 2.05 0 2.83L4 21.41c.39.39.9.59 1.41.59.51 0 1.02-.2 1.41-.59l7.78-7.78 2.81-2.81c.8-.78.8-2.07 0-2.86zM5.41 20L4 18.59l7.72-7.72 1.47 1.35L5.41 20z\"/>\n",
              "  </svg>\n",
              "      </button>\n",
              "      \n",
              "  <style>\n",
              "    .colab-df-container {\n",
              "      display:flex;\n",
              "      flex-wrap:wrap;\n",
              "      gap: 12px;\n",
              "    }\n",
              "\n",
              "    .colab-df-convert {\n",
              "      background-color: #E8F0FE;\n",
              "      border: none;\n",
              "      border-radius: 50%;\n",
              "      cursor: pointer;\n",
              "      display: none;\n",
              "      fill: #1967D2;\n",
              "      height: 32px;\n",
              "      padding: 0 0 0 0;\n",
              "      width: 32px;\n",
              "    }\n",
              "\n",
              "    .colab-df-convert:hover {\n",
              "      background-color: #E2EBFA;\n",
              "      box-shadow: 0px 1px 2px rgba(60, 64, 67, 0.3), 0px 1px 3px 1px rgba(60, 64, 67, 0.15);\n",
              "      fill: #174EA6;\n",
              "    }\n",
              "\n",
              "    [theme=dark] .colab-df-convert {\n",
              "      background-color: #3B4455;\n",
              "      fill: #D2E3FC;\n",
              "    }\n",
              "\n",
              "    [theme=dark] .colab-df-convert:hover {\n",
              "      background-color: #434B5C;\n",
              "      box-shadow: 0px 1px 3px 1px rgba(0, 0, 0, 0.15);\n",
              "      filter: drop-shadow(0px 1px 2px rgba(0, 0, 0, 0.3));\n",
              "      fill: #FFFFFF;\n",
              "    }\n",
              "  </style>\n",
              "\n",
              "      <script>\n",
              "        const buttonEl =\n",
              "          document.querySelector('#df-111bbecc-c255-4352-bf56-c5d95dd09f04 button.colab-df-convert');\n",
              "        buttonEl.style.display =\n",
              "          google.colab.kernel.accessAllowed ? 'block' : 'none';\n",
              "\n",
              "        async function convertToInteractive(key) {\n",
              "          const element = document.querySelector('#df-111bbecc-c255-4352-bf56-c5d95dd09f04');\n",
              "          const dataTable =\n",
              "            await google.colab.kernel.invokeFunction('convertToInteractive',\n",
              "                                                     [key], {});\n",
              "          if (!dataTable) return;\n",
              "\n",
              "          const docLinkHtml = 'Like what you see? Visit the ' +\n",
              "            '<a target=\"_blank\" href=https://colab.research.google.com/notebooks/data_table.ipynb>data table notebook</a>'\n",
              "            + ' to learn more about interactive tables.';\n",
              "          element.innerHTML = '';\n",
              "          dataTable['output_type'] = 'display_data';\n",
              "          await google.colab.output.renderOutput(dataTable, element);\n",
              "          const docLink = document.createElement('div');\n",
              "          docLink.innerHTML = docLinkHtml;\n",
              "          element.appendChild(docLink);\n",
              "        }\n",
              "      </script>\n",
              "    </div>\n",
              "  </div>\n",
              "  "
            ]
          },
          "metadata": {},
          "execution_count": 16
        }
      ],
      "source": [
        "pd.DataFrame(df.groupby('sentiment').count()['text'])"
      ]
    },
    {
      "cell_type": "markdown",
      "metadata": {
        "id": "WL4LqQE1fkHR"
      },
      "source": [
        "For simplicity, \n",
        "- we only use ```X = 'sentiment'``` and ```y = 'text'``` from the original dataframe. \n",
        "- We only look at positive (1) and negative (0) tweets."
      ]
    },
    {
      "cell_type": "code",
      "execution_count": 17,
      "metadata": {
        "colab": {
          "base_uri": "https://localhost:8080/",
          "height": 143
        },
        "id": "tiJMS1ZafkHT",
        "outputId": "648ad1e8-591b-4da4-893e-fa6b40ceacdc"
      },
      "outputs": [
        {
          "output_type": "execute_result",
          "data": {
            "text/plain": [
              "           text\n",
              "sentiment      \n",
              "0          8493\n",
              "1          2236"
            ],
            "text/html": [
              "\n",
              "  <div id=\"df-cc1bc669-c34e-4cdf-b507-044415475946\">\n",
              "    <div class=\"colab-df-container\">\n",
              "      <div>\n",
              "<style scoped>\n",
              "    .dataframe tbody tr th:only-of-type {\n",
              "        vertical-align: middle;\n",
              "    }\n",
              "\n",
              "    .dataframe tbody tr th {\n",
              "        vertical-align: top;\n",
              "    }\n",
              "\n",
              "    .dataframe thead th {\n",
              "        text-align: right;\n",
              "    }\n",
              "</style>\n",
              "<table border=\"1\" class=\"dataframe\">\n",
              "  <thead>\n",
              "    <tr style=\"text-align: right;\">\n",
              "      <th></th>\n",
              "      <th>text</th>\n",
              "    </tr>\n",
              "    <tr>\n",
              "      <th>sentiment</th>\n",
              "      <th></th>\n",
              "    </tr>\n",
              "  </thead>\n",
              "  <tbody>\n",
              "    <tr>\n",
              "      <th>0</th>\n",
              "      <td>8493</td>\n",
              "    </tr>\n",
              "    <tr>\n",
              "      <th>1</th>\n",
              "      <td>2236</td>\n",
              "    </tr>\n",
              "  </tbody>\n",
              "</table>\n",
              "</div>\n",
              "      <button class=\"colab-df-convert\" onclick=\"convertToInteractive('df-cc1bc669-c34e-4cdf-b507-044415475946')\"\n",
              "              title=\"Convert this dataframe to an interactive table.\"\n",
              "              style=\"display:none;\">\n",
              "        \n",
              "  <svg xmlns=\"http://www.w3.org/2000/svg\" height=\"24px\"viewBox=\"0 0 24 24\"\n",
              "       width=\"24px\">\n",
              "    <path d=\"M0 0h24v24H0V0z\" fill=\"none\"/>\n",
              "    <path d=\"M18.56 5.44l.94 2.06.94-2.06 2.06-.94-2.06-.94-.94-2.06-.94 2.06-2.06.94zm-11 1L8.5 8.5l.94-2.06 2.06-.94-2.06-.94L8.5 2.5l-.94 2.06-2.06.94zm10 10l.94 2.06.94-2.06 2.06-.94-2.06-.94-.94-2.06-.94 2.06-2.06.94z\"/><path d=\"M17.41 7.96l-1.37-1.37c-.4-.4-.92-.59-1.43-.59-.52 0-1.04.2-1.43.59L10.3 9.45l-7.72 7.72c-.78.78-.78 2.05 0 2.83L4 21.41c.39.39.9.59 1.41.59.51 0 1.02-.2 1.41-.59l7.78-7.78 2.81-2.81c.8-.78.8-2.07 0-2.86zM5.41 20L4 18.59l7.72-7.72 1.47 1.35L5.41 20z\"/>\n",
              "  </svg>\n",
              "      </button>\n",
              "      \n",
              "  <style>\n",
              "    .colab-df-container {\n",
              "      display:flex;\n",
              "      flex-wrap:wrap;\n",
              "      gap: 12px;\n",
              "    }\n",
              "\n",
              "    .colab-df-convert {\n",
              "      background-color: #E8F0FE;\n",
              "      border: none;\n",
              "      border-radius: 50%;\n",
              "      cursor: pointer;\n",
              "      display: none;\n",
              "      fill: #1967D2;\n",
              "      height: 32px;\n",
              "      padding: 0 0 0 0;\n",
              "      width: 32px;\n",
              "    }\n",
              "\n",
              "    .colab-df-convert:hover {\n",
              "      background-color: #E2EBFA;\n",
              "      box-shadow: 0px 1px 2px rgba(60, 64, 67, 0.3), 0px 1px 3px 1px rgba(60, 64, 67, 0.15);\n",
              "      fill: #174EA6;\n",
              "    }\n",
              "\n",
              "    [theme=dark] .colab-df-convert {\n",
              "      background-color: #3B4455;\n",
              "      fill: #D2E3FC;\n",
              "    }\n",
              "\n",
              "    [theme=dark] .colab-df-convert:hover {\n",
              "      background-color: #434B5C;\n",
              "      box-shadow: 0px 1px 3px 1px rgba(0, 0, 0, 0.15);\n",
              "      filter: drop-shadow(0px 1px 2px rgba(0, 0, 0, 0.3));\n",
              "      fill: #FFFFFF;\n",
              "    }\n",
              "  </style>\n",
              "\n",
              "      <script>\n",
              "        const buttonEl =\n",
              "          document.querySelector('#df-cc1bc669-c34e-4cdf-b507-044415475946 button.colab-df-convert');\n",
              "        buttonEl.style.display =\n",
              "          google.colab.kernel.accessAllowed ? 'block' : 'none';\n",
              "\n",
              "        async function convertToInteractive(key) {\n",
              "          const element = document.querySelector('#df-cc1bc669-c34e-4cdf-b507-044415475946');\n",
              "          const dataTable =\n",
              "            await google.colab.kernel.invokeFunction('convertToInteractive',\n",
              "                                                     [key], {});\n",
              "          if (!dataTable) return;\n",
              "\n",
              "          const docLinkHtml = 'Like what you see? Visit the ' +\n",
              "            '<a target=\"_blank\" href=https://colab.research.google.com/notebooks/data_table.ipynb>data table notebook</a>'\n",
              "            + ' to learn more about interactive tables.';\n",
              "          element.innerHTML = '';\n",
              "          dataTable['output_type'] = 'display_data';\n",
              "          await google.colab.output.renderOutput(dataTable, element);\n",
              "          const docLink = document.createElement('div');\n",
              "          docLink.innerHTML = docLinkHtml;\n",
              "          element.appendChild(docLink);\n",
              "        }\n",
              "      </script>\n",
              "    </div>\n",
              "  </div>\n",
              "  "
            ]
          },
          "metadata": {},
          "execution_count": 17
        }
      ],
      "source": [
        "df = df[['sentiment', 'text']]\n",
        "df = df[df['sentiment'] != 'Neutral']\n",
        "df['sentiment'] = [1 if s == \"Positive\" else 0 for s in df['sentiment']]\n",
        "df.groupby('sentiment').count()"
      ]
    },
    {
      "cell_type": "code",
      "execution_count": 18,
      "metadata": {
        "colab": {
          "base_uri": "https://localhost:8080/",
          "height": 143
        },
        "id": "dF6uRJORfkHX",
        "outputId": "36907017-f6ed-492b-b9dc-a814110aa675"
      },
      "outputs": [
        {
          "output_type": "execute_result",
          "data": {
            "text/plain": [
              "                text\n",
              "sentiment           \n",
              "0          79.152858\n",
              "1          20.847142"
            ],
            "text/html": [
              "\n",
              "  <div id=\"df-4aea9522-444d-4824-8fd6-cc29699188dc\">\n",
              "    <div class=\"colab-df-container\">\n",
              "      <div>\n",
              "<style scoped>\n",
              "    .dataframe tbody tr th:only-of-type {\n",
              "        vertical-align: middle;\n",
              "    }\n",
              "\n",
              "    .dataframe tbody tr th {\n",
              "        vertical-align: top;\n",
              "    }\n",
              "\n",
              "    .dataframe thead th {\n",
              "        text-align: right;\n",
              "    }\n",
              "</style>\n",
              "<table border=\"1\" class=\"dataframe\">\n",
              "  <thead>\n",
              "    <tr style=\"text-align: right;\">\n",
              "      <th></th>\n",
              "      <th>text</th>\n",
              "    </tr>\n",
              "    <tr>\n",
              "      <th>sentiment</th>\n",
              "      <th></th>\n",
              "    </tr>\n",
              "  </thead>\n",
              "  <tbody>\n",
              "    <tr>\n",
              "      <th>0</th>\n",
              "      <td>79.152858</td>\n",
              "    </tr>\n",
              "    <tr>\n",
              "      <th>1</th>\n",
              "      <td>20.847142</td>\n",
              "    </tr>\n",
              "  </tbody>\n",
              "</table>\n",
              "</div>\n",
              "      <button class=\"colab-df-convert\" onclick=\"convertToInteractive('df-4aea9522-444d-4824-8fd6-cc29699188dc')\"\n",
              "              title=\"Convert this dataframe to an interactive table.\"\n",
              "              style=\"display:none;\">\n",
              "        \n",
              "  <svg xmlns=\"http://www.w3.org/2000/svg\" height=\"24px\"viewBox=\"0 0 24 24\"\n",
              "       width=\"24px\">\n",
              "    <path d=\"M0 0h24v24H0V0z\" fill=\"none\"/>\n",
              "    <path d=\"M18.56 5.44l.94 2.06.94-2.06 2.06-.94-2.06-.94-.94-2.06-.94 2.06-2.06.94zm-11 1L8.5 8.5l.94-2.06 2.06-.94-2.06-.94L8.5 2.5l-.94 2.06-2.06.94zm10 10l.94 2.06.94-2.06 2.06-.94-2.06-.94-.94-2.06-.94 2.06-2.06.94z\"/><path d=\"M17.41 7.96l-1.37-1.37c-.4-.4-.92-.59-1.43-.59-.52 0-1.04.2-1.43.59L10.3 9.45l-7.72 7.72c-.78.78-.78 2.05 0 2.83L4 21.41c.39.39.9.59 1.41.59.51 0 1.02-.2 1.41-.59l7.78-7.78 2.81-2.81c.8-.78.8-2.07 0-2.86zM5.41 20L4 18.59l7.72-7.72 1.47 1.35L5.41 20z\"/>\n",
              "  </svg>\n",
              "      </button>\n",
              "      \n",
              "  <style>\n",
              "    .colab-df-container {\n",
              "      display:flex;\n",
              "      flex-wrap:wrap;\n",
              "      gap: 12px;\n",
              "    }\n",
              "\n",
              "    .colab-df-convert {\n",
              "      background-color: #E8F0FE;\n",
              "      border: none;\n",
              "      border-radius: 50%;\n",
              "      cursor: pointer;\n",
              "      display: none;\n",
              "      fill: #1967D2;\n",
              "      height: 32px;\n",
              "      padding: 0 0 0 0;\n",
              "      width: 32px;\n",
              "    }\n",
              "\n",
              "    .colab-df-convert:hover {\n",
              "      background-color: #E2EBFA;\n",
              "      box-shadow: 0px 1px 2px rgba(60, 64, 67, 0.3), 0px 1px 3px 1px rgba(60, 64, 67, 0.15);\n",
              "      fill: #174EA6;\n",
              "    }\n",
              "\n",
              "    [theme=dark] .colab-df-convert {\n",
              "      background-color: #3B4455;\n",
              "      fill: #D2E3FC;\n",
              "    }\n",
              "\n",
              "    [theme=dark] .colab-df-convert:hover {\n",
              "      background-color: #434B5C;\n",
              "      box-shadow: 0px 1px 3px 1px rgba(0, 0, 0, 0.15);\n",
              "      filter: drop-shadow(0px 1px 2px rgba(0, 0, 0, 0.3));\n",
              "      fill: #FFFFFF;\n",
              "    }\n",
              "  </style>\n",
              "\n",
              "      <script>\n",
              "        const buttonEl =\n",
              "          document.querySelector('#df-4aea9522-444d-4824-8fd6-cc29699188dc button.colab-df-convert');\n",
              "        buttonEl.style.display =\n",
              "          google.colab.kernel.accessAllowed ? 'block' : 'none';\n",
              "\n",
              "        async function convertToInteractive(key) {\n",
              "          const element = document.querySelector('#df-4aea9522-444d-4824-8fd6-cc29699188dc');\n",
              "          const dataTable =\n",
              "            await google.colab.kernel.invokeFunction('convertToInteractive',\n",
              "                                                     [key], {});\n",
              "          if (!dataTable) return;\n",
              "\n",
              "          const docLinkHtml = 'Like what you see? Visit the ' +\n",
              "            '<a target=\"_blank\" href=https://colab.research.google.com/notebooks/data_table.ipynb>data table notebook</a>'\n",
              "            + ' to learn more about interactive tables.';\n",
              "          element.innerHTML = '';\n",
              "          dataTable['output_type'] = 'display_data';\n",
              "          await google.colab.output.renderOutput(dataTable, element);\n",
              "          const docLink = document.createElement('div');\n",
              "          docLink.innerHTML = docLinkHtml;\n",
              "          element.appendChild(docLink);\n",
              "        }\n",
              "      </script>\n",
              "    </div>\n",
              "  </div>\n",
              "  "
            ]
          },
          "metadata": {},
          "execution_count": 18
        }
      ],
      "source": [
        "train_data, test_data = train_test_split(df, test_size=0.10, random_state=42)\n",
        "train_data.index = np.arange(len(train_data))\n",
        "test_data.index = np.arange(len(test_data))\n",
        "train_data.groupby('sentiment').count().apply(lambda x: 100 * x / float(x.sum()))"
      ]
    },
    {
      "cell_type": "markdown",
      "metadata": {
        "id": "IZXy_udKfkHa"
      },
      "source": [
        "### Input representations"
      ]
    },
    {
      "cell_type": "markdown",
      "metadata": {
        "id": "cxCfQbRKfkHb"
      },
      "source": [
        "#### Build vocabulary\n",
        "We need to build a vocabulary using words in our training data. Any words in the test set that are not in our vocabulary will be replaced with an ```<UNK>``` token. We will also add a ```<PAD>``` token as padding.\n",
        "\n",
        "For computational purposes, we'll only take words that appeared more than 3 times."
      ]
    },
    {
      "cell_type": "code",
      "execution_count": 19,
      "metadata": {
        "colab": {
          "base_uri": "https://localhost:8080/"
        },
        "id": "qaZ_8lblfkHc",
        "outputId": "ab540f2f-3800-4022-cc44-e702bcf6fdc9"
      },
      "outputs": [
        {
          "output_type": "stream",
          "name": "stdout",
          "text": [
            "3069\n"
          ]
        }
      ],
      "source": [
        "UNK = \"<UNK>\"\n",
        "PAD = \"<PAD>\"\n",
        "\n",
        "def build_vocab(sentences, min_count=3, max_vocab=None):\n",
        "    \"\"\"\n",
        "    Build vocabulary from sentences (list of strings)\n",
        "    \"\"\"\n",
        "    # keep track of the number of appearance of each word\n",
        "    word_count = Counter()\n",
        "    \n",
        "    for sentence in sentences:\n",
        "        # Regular expression operations: [] (indicate a set of characters), \n",
        "        sentence = re.sub('[\\\\(\\[#.!?,\\'\\/\\])0-9]', ' ', sentence)\n",
        "        word_count.update(word_tokenize(sentence.lower()))\n",
        "    \n",
        "    vocabulary = list([w for w in word_count if word_count[w] > min_count]) + [UNK, PAD]\n",
        "    indices = dict(zip(vocabulary, range(len(vocabulary))))\n",
        "\n",
        "    return vocabulary, indices\n",
        "\n",
        "vocabulary, vocab_indices = build_vocab(train_data['text'])\n",
        "\n",
        "print(len(vocabulary))"
      ]
    },
    {
      "cell_type": "markdown",
      "metadata": {
        "id": "Qo-WXkDBfkHf"
      },
      "source": [
        "## Model Time"
      ]
    },
    {
      "cell_type": "markdown",
      "metadata": {
        "id": "P4vIjTqefkHg"
      },
      "source": [
        "#### Word representations\n",
        "Next, we neeed to convert each word/token in the sentences into its index in the vocabulary so that pytorch can use it. We do this for both train and test set."
      ]
    },
    {
      "cell_type": "markdown",
      "metadata": {
        "id": "wvBthg06fkHh"
      },
      "source": [
        "### DataLoader"
      ]
    },
    {
      "cell_type": "code",
      "execution_count": 20,
      "metadata": {
        "id": "rL3LK19wfkHi"
      },
      "outputs": [],
      "source": [
        "class TweetDataset(Dataset):\n",
        "    def __init__(self, vocab_index, df, label = 'sentiment'):\n",
        "        self.vocab_index = vocab_index\n",
        "        self.df = df\n",
        "        self.label = label\n",
        "    \n",
        "    def __len__(self):\n",
        "        return len(self.df)\n",
        "    \n",
        "    def __getitem__(self, key):\n",
        "        sentence = self.df.loc[key, 'text']\n",
        "        sentence = re.sub('[\\\\(\\[#.!?,\\'\\/\\])0-9]', ' ', sentence)\n",
        "        token_indices = np.array([self.vocab_index[word] if word in self.vocab_index else self.vocab_index['<UNK>'] for word in word_tokenize(sentence.lower())])\n",
        "        return (torch.tensor(token_indices) , self.df.loc[key, self.label])\n",
        "\n",
        "\n",
        "def pad_collate(batch):\n",
        "    (xx, yy) = zip(*batch)\n",
        "    x_lens = [len(x) for x in xx]\n",
        "    \n",
        "    # I want to    eat an     apple\n",
        "    # I am   going to  sleep  PAD  \n",
        "    # batch_first: output will be in B x T x * if True, or in T x B x * otherwise\n",
        "    xx_pad = pad_sequence(xx, batch_first=True, padding_value=len(vocabulary)-1)\n",
        "\n",
        "    return torch.as_tensor(xx_pad), torch.as_tensor(x_lens), torch.LongTensor(yy)\n",
        "    \n",
        "\n",
        "BATCH_SIZE = 32\n",
        "# shuffle: set to True to have the data reshuffled at every epoch\n",
        "train_loader = DataLoader(TweetDataset(vocab_indices, train_data),\n",
        "                          batch_size=BATCH_SIZE,\n",
        "                          shuffle=True,\n",
        "                          collate_fn = pad_collate)\n",
        "test_loader = DataLoader(TweetDataset(vocab_indices, test_data),\n",
        "                         batch_size=BATCH_SIZE,\n",
        "                         shuffle=True,\n",
        "                         collate_fn = pad_collate)"
      ]
    },
    {
      "cell_type": "markdown",
      "metadata": {
        "id": "M013551OhIWJ"
      },
      "source": [
        "Let's get a general idea of what an instance of training batch will be like."
      ]
    },
    {
      "cell_type": "code",
      "execution_count": 21,
      "metadata": {
        "colab": {
          "base_uri": "https://localhost:8080/"
        },
        "id": "pojbeV6LhIWJ",
        "outputId": "52cdfb07-69ea-4cd3-f526-46a92faedaa7"
      },
      "outputs": [
        {
          "output_type": "stream",
          "name": "stdout",
          "text": [
            "********************************Padded sequence*********************************\n",
            "tensor([  67,  255,   32,  265, 2697,  332,  408,  371,  207,   45,   46,   47,\n",
            "         943,  535, 3067,  110,  353,  345,  354, 3067,  331, 3067,   56,    4,\n",
            "         101, 3067,  199,  488, 3068])\n",
            "*******************************Length of sequence*******************************\n",
            "tensor([28, 23, 17, 19, 25, 22, 25, 20, 22, 23,  9, 15, 12, 17, 12, 22, 22, 11,\n",
            "        21,  9, 18, 12, 10, 13, 21, 29, 19, 23, 18, 22, 25, 26])\n",
            "*******************************Label of sequence********************************\n",
            "tensor([1, 0, 0, 0, 0, 0, 0, 0, 0, 0, 0, 0, 0, 1, 0, 0, 1, 0, 1, 0, 0, 1, 0, 0,\n",
            "        0, 1, 0, 0, 0, 1, 0, 0])\n"
          ]
        }
      ],
      "source": [
        "sample_input = next(iter(train_loader))\n",
        "print(\"Padded sequence\".center(80, '*'))\n",
        "print(sample_input[0][0])\n",
        "print(\"Length of sequence\".center(80, '*'))\n",
        "print(sample_input[1])\n",
        "print(\"Label of sequence\".center(80, '*'))\n",
        "print(sample_input[2])"
      ]
    },
    {
      "cell_type": "markdown",
      "metadata": {
        "id": "D0jn38-qfkHl"
      },
      "source": [
        "### RNN"
      ]
    },
    {
      "cell_type": "markdown",
      "metadata": {
        "id": "WCFvm152fkHu"
      },
      "source": [
        "For this lab, we will be exploring two variants of RNN: vanilla (or Elman) RNN and LSTM (Long-short term memory). In the following code block, please try to define your own model. Here are some hints.\n",
        "\n",
        "- Each input word is represented by a vector of dimension ```embedding_dim```. Check out ```nn.Embedding``` to see how to initialize embeddings randomly.\n",
        "- Your model should take the following input parameters\n",
        "    - ```hidden_dim```: The number of features in the hidden state h of your RNN layer\n",
        "    - ```output_dim```: Number of output classes\n",
        "    - ```vocab_size``` Size of your vocabulary. \n",
        "    - ```embedding_dim```: Dimension of word embeddings\n",
        "- Your model should consist of an RNN layer (you can use either ```nn.RNN``` or ```nn.LSTM```) followed by a linear layer.\n",
        "- $h_{0}$ (and $c$ if you use LSTM) should be initialized as a zero vector of dimension ```hidden_dim```. You might want to check out ```nn.Parameter```"
      ]
    },
    {
      "cell_type": "code",
      "execution_count": 25,
      "metadata": {
        "id": "IX6Hf7xqfkHm"
      },
      "outputs": [],
      "source": [
        "class RNN(nn.Module):\n",
        "    def __init__(self, hidden_dim, output_dim, \n",
        "                 vocab_size, embedding_dim, rnn='LSTM'):\n",
        "        super(RNN, self).__init__()\n",
        "        \n",
        "        self.emb = nn.Embedding(vocab_size, embedding_dim, padding_idx=vocab_size-1)\n",
        "        self.hidden_dim = hidden_dim\n",
        "        self.rnn_fn = rnn\n",
        "        assert self.rnn_fn in ['LSTM', 'RNN']\n",
        "        self.rnn = getattr(nn, rnn)(embedding_dim, hidden_dim, batch_first=True)\n",
        "        self.fc = nn.Linear(hidden_dim, output_dim)\n",
        "        \n",
        "    def forward(self, x, x_len):\n",
        "        x = self.emb(x)\n",
        "        \n",
        "        # output:  tensor containing the output features (h_t) from the last layer of the RNN, tensor containing the hidden state for t = seq_len.\n",
        "        # pack_padded_sequence: Packs a Tensor containing padded sequences of variable length.\n",
        "        # enforce_sorted: if True, the input is expected to contain sequences sorted by length in a decreasing order. If False, the input will get sorted unconditionally.\n",
        "        _, last_hidden = self.rnn(pack_padded_sequence(x, x_len.to('cpu'), batch_first=True, enforce_sorted=False))\n",
        "        if self.rnn_fn == 'LSTM':\n",
        "            # (h,c)\n",
        "            # c_0: tensor containing the initial cell state for each element in the batch.\n",
        "            last_hidden = last_hidden[0]\n",
        "        out = self.fc(last_hidden.view(-1, self.hidden_dim))\n",
        "        return out"
      ]
    },
    {
      "cell_type": "code",
      "execution_count": null,
      "metadata": {
        "id": "t4qTu8mMd1z6"
      },
      "outputs": [],
      "source": [
        "from google.colab import drive\n",
        "drive.mount('/content/drive')"
      ]
    },
    {
      "cell_type": "markdown",
      "metadata": {
        "id": "h8Qrx4KYfkHp"
      },
      "source": [
        "### Train and validation loop"
      ]
    },
    {
      "cell_type": "code",
      "execution_count": 26,
      "metadata": {
        "id": "5nc3scsLfkHq"
      },
      "outputs": [],
      "source": [
        "def train(model, train_loader=train_loader, test_loader=test_loader, \n",
        "          learning_rate=0.001, num_epoch=10, print_every=100):\n",
        "    # Training steps\n",
        "    start_time = time.time()\n",
        "    loss_fn = nn.CrossEntropyLoss()\n",
        "    optimizer = torch.optim.Adam(model.parameters(), lr=learning_rate, weight_decay=10**(-5))\n",
        "    for epoch in range(num_epoch):\n",
        "        model.train()\n",
        "        for i, (data, data_len, labels) in enumerate(train_loader):\n",
        "            data, data_len, labels = data.to(device), data_len.to(device), labels.to(device)\n",
        "            outputs = model(data, data_len)\n",
        "            model.zero_grad()\n",
        "            loss = loss_fn(outputs.squeeze(), labels)\n",
        "            loss.backward()\n",
        "            optimizer.step()\n",
        "\n",
        "             # report performance\n",
        "            if (i + 1) % print_every == 0:\n",
        "                print('Train set | epoch: {:3d} | {:6d}/{:6d} batches | Loss: {:6.4f}'.format(\n",
        "                    epoch, i + 1, len(train_loader), loss.item()))     \n",
        "    \n",
        "    # Evaluate after every epochh\n",
        "        correct = 0\n",
        "        total = 0\n",
        "        model.eval()\n",
        "\n",
        "        predictions = []\n",
        "        truths = []\n",
        "\n",
        "        with torch.no_grad():\n",
        "            for i, (data, data_len, labels) in enumerate(test_loader):\n",
        "                data, data_len, labels = data.to(device), data_len.to(device), labels.to(device)\n",
        "                outputs = model(data, data_len)\n",
        "                pred = outputs.data.max(-1)[1]\n",
        "                predictions += list(pred.cpu().numpy())\n",
        "                truths += list(labels.cpu().numpy())\n",
        "                total += labels.size(0)\n",
        "                correct += (pred == labels).sum()\n",
        "                \n",
        "            acc = (100 * correct / total)\n",
        "            auc = roc_auc_score(truths, predictions)\n",
        "            elapse = time.strftime('%H:%M:%S', time.gmtime(int((time.time() - start_time))))\n",
        "            print('Test set | Accuracy: {:6.4f} | AUC: {:4.2f} | time elapse: {:>9}'.format(\n",
        "                acc, auc, elapse))"
      ]
    },
    {
      "cell_type": "markdown",
      "metadata": {
        "id": "rQMLwClifkHv"
      },
      "source": [
        "Run the code block below to check your model performance."
      ]
    },
    {
      "cell_type": "code",
      "execution_count": 27,
      "metadata": {
        "colab": {
          "base_uri": "https://localhost:8080/"
        },
        "id": "seXmatFEfkHw",
        "outputId": "9c97cc83-5758-4843-d2fb-a8f5e5c47b17",
        "scrolled": true
      },
      "outputs": [
        {
          "output_type": "stream",
          "name": "stdout",
          "text": [
            "Train set | epoch:   0 |    100/   302 batches | Loss: 0.5967\n",
            "Train set | epoch:   0 |    200/   302 batches | Loss: 0.4869\n",
            "Train set | epoch:   0 |    300/   302 batches | Loss: 0.6579\n",
            "Test set | Accuracy: 80.9879 | AUC: 0.58 | time elapse:  00:00:04\n",
            "Train set | epoch:   1 |    100/   302 batches | Loss: 0.5395\n",
            "Train set | epoch:   1 |    200/   302 batches | Loss: 0.6252\n",
            "Train set | epoch:   1 |    300/   302 batches | Loss: 0.3193\n",
            "Test set | Accuracy: 81.9199 | AUC: 0.62 | time elapse:  00:00:08\n",
            "Train set | epoch:   2 |    100/   302 batches | Loss: 0.3423\n",
            "Train set | epoch:   2 |    200/   302 batches | Loss: 0.4585\n",
            "Train set | epoch:   2 |    300/   302 batches | Loss: 0.3538\n",
            "Test set | Accuracy: 83.0382 | AUC: 0.66 | time elapse:  00:00:14\n",
            "Train set | epoch:   3 |    100/   302 batches | Loss: 0.3827\n",
            "Train set | epoch:   3 |    200/   302 batches | Loss: 0.2538\n",
            "Train set | epoch:   3 |    300/   302 batches | Loss: 0.4507\n",
            "Test set | Accuracy: 84.0634 | AUC: 0.68 | time elapse:  00:00:18\n",
            "Train set | epoch:   4 |    100/   302 batches | Loss: 0.2827\n",
            "Train set | epoch:   4 |    200/   302 batches | Loss: 0.4300\n",
            "Train set | epoch:   4 |    300/   302 batches | Loss: 0.3570\n",
            "Test set | Accuracy: 83.8770 | AUC: 0.69 | time elapse:  00:00:22\n",
            "Train set | epoch:   5 |    100/   302 batches | Loss: 0.3984\n",
            "Train set | epoch:   5 |    200/   302 batches | Loss: 0.4078\n",
            "Train set | epoch:   5 |    300/   302 batches | Loss: 0.4490\n",
            "Test set | Accuracy: 84.2498 | AUC: 0.67 | time elapse:  00:00:27\n",
            "Train set | epoch:   6 |    100/   302 batches | Loss: 0.0767\n",
            "Train set | epoch:   6 |    200/   302 batches | Loss: 0.3013\n",
            "Train set | epoch:   6 |    300/   302 batches | Loss: 0.2248\n",
            "Test set | Accuracy: 83.0382 | AUC: 0.72 | time elapse:  00:00:31\n",
            "Train set | epoch:   7 |    100/   302 batches | Loss: 0.4008\n",
            "Train set | epoch:   7 |    200/   302 batches | Loss: 0.2498\n",
            "Train set | epoch:   7 |    300/   302 batches | Loss: 0.1782\n",
            "Test set | Accuracy: 83.9702 | AUC: 0.69 | time elapse:  00:00:35\n",
            "Train set | epoch:   8 |    100/   302 batches | Loss: 0.1323\n",
            "Train set | epoch:   8 |    200/   302 batches | Loss: 0.1997\n",
            "Train set | epoch:   8 |    300/   302 batches | Loss: 0.1456\n",
            "Test set | Accuracy: 83.4110 | AUC: 0.72 | time elapse:  00:00:41\n",
            "Train set | epoch:   9 |    100/   302 batches | Loss: 0.1705\n",
            "Train set | epoch:   9 |    200/   302 batches | Loss: 0.1018\n",
            "Train set | epoch:   9 |    300/   302 batches | Loss: 0.1310\n",
            "Test set | Accuracy: 83.8770 | AUC: 0.71 | time elapse:  00:00:46\n"
          ]
        }
      ],
      "source": [
        "torch.manual_seed(42)\n",
        "rnn_model = RNN(40, 2, len(vocabulary), 50, rnn='RNN').to(device)\n",
        "train(rnn_model)"
      ]
    },
    {
      "cell_type": "code",
      "execution_count": 35,
      "metadata": {
        "colab": {
          "base_uri": "https://localhost:8080/"
        },
        "id": "2gzqv_ivfkHz",
        "outputId": "c7a9bc4e-f313-4425-d3f1-6b10d6bda631",
        "scrolled": true
      },
      "outputs": [
        {
          "output_type": "stream",
          "name": "stdout",
          "text": [
            "Train set | epoch:   0 |    100/   302 batches | Loss: 0.4109\n",
            "Train set | epoch:   0 |    200/   302 batches | Loss: 0.4267\n",
            "Train set | epoch:   0 |    300/   302 batches | Loss: 0.4369\n",
            "Test set | Accuracy: 82.2926 | AUC: 0.60 | time elapse:  00:00:05\n",
            "Train set | epoch:   1 |    100/   302 batches | Loss: 0.3988\n",
            "Train set | epoch:   1 |    200/   302 batches | Loss: 0.2174\n",
            "Train set | epoch:   1 |    300/   302 batches | Loss: 0.2270\n",
            "Test set | Accuracy: 82.1062 | AUC: 0.62 | time elapse:  00:00:09\n",
            "Train set | epoch:   2 |    100/   302 batches | Loss: 0.1297\n",
            "Train set | epoch:   2 |    200/   302 batches | Loss: 0.3637\n",
            "Train set | epoch:   2 |    300/   302 batches | Loss: 0.2934\n",
            "Test set | Accuracy: 83.7838 | AUC: 0.68 | time elapse:  00:00:13\n",
            "Train set | epoch:   3 |    100/   302 batches | Loss: 0.2790\n",
            "Train set | epoch:   3 |    200/   302 batches | Loss: 0.4154\n",
            "Train set | epoch:   3 |    300/   302 batches | Loss: 0.1773\n",
            "Test set | Accuracy: 84.0634 | AUC: 0.67 | time elapse:  00:00:19\n",
            "Train set | epoch:   4 |    100/   302 batches | Loss: 0.2131\n",
            "Train set | epoch:   4 |    200/   302 batches | Loss: 0.3711\n",
            "Train set | epoch:   4 |    300/   302 batches | Loss: 0.3356\n",
            "Test set | Accuracy: 84.3430 | AUC: 0.73 | time elapse:  00:00:24\n",
            "Train set | epoch:   5 |    100/   302 batches | Loss: 0.3995\n",
            "Train set | epoch:   5 |    200/   302 batches | Loss: 0.2354\n",
            "Train set | epoch:   5 |    300/   302 batches | Loss: 0.1458\n",
            "Test set | Accuracy: 84.6226 | AUC: 0.71 | time elapse:  00:00:29\n",
            "Train set | epoch:   6 |    100/   302 batches | Loss: 0.3797\n",
            "Train set | epoch:   6 |    200/   302 batches | Loss: 0.0505\n",
            "Train set | epoch:   6 |    300/   302 batches | Loss: 0.2957\n",
            "Test set | Accuracy: 83.2246 | AUC: 0.75 | time elapse:  00:00:33\n",
            "Train set | epoch:   7 |    100/   302 batches | Loss: 0.1693\n",
            "Train set | epoch:   7 |    200/   302 batches | Loss: 0.2641\n",
            "Train set | epoch:   7 |    300/   302 batches | Loss: 0.1116\n",
            "Test set | Accuracy: 84.9021 | AUC: 0.71 | time elapse:  00:00:38\n",
            "Train set | epoch:   8 |    100/   302 batches | Loss: 0.1975\n",
            "Train set | epoch:   8 |    200/   302 batches | Loss: 0.2089\n",
            "Train set | epoch:   8 |    300/   302 batches | Loss: 0.2759\n",
            "Test set | Accuracy: 84.6226 | AUC: 0.71 | time elapse:  00:00:42\n",
            "Train set | epoch:   9 |    100/   302 batches | Loss: 0.1531\n",
            "Train set | epoch:   9 |    200/   302 batches | Loss: 0.0417\n",
            "Train set | epoch:   9 |    300/   302 batches | Loss: 0.1943\n",
            "Test set | Accuracy: 84.2498 | AUC: 0.72 | time elapse:  00:00:47\n"
          ]
        }
      ],
      "source": [
        "lstm_model = RNN(40, 2, len(vocabulary), 50, rnn='LSTM').to(device)\n",
        "train(lstm_model)"
      ]
    },
    {
      "cell_type": "markdown",
      "metadata": {
        "id": "Pz5dadxpfkH2"
      },
      "source": [
        "### Model predictions"
      ]
    },
    {
      "cell_type": "code",
      "execution_count": 36,
      "metadata": {
        "id": "gfn9GiRfqnx2"
      },
      "outputs": [],
      "source": [
        "def sentences_to_padded_index_sequences(words, sentences):\n",
        "    for i, s in enumerate(sentences):\n",
        "        # only take the first pad_length tokens\n",
        "        token_indices = np.array([words[w] if w in words else words['<UNK>'] for w in re.findall(r\"[\\w']+|[.,!?;]\", s.lower())])\n",
        "    return token_indices, len(token_indices)"
      ]
    },
    {
      "cell_type": "code",
      "execution_count": 39,
      "metadata": {
        "id": "CFHMg5TefkH3"
      },
      "outputs": [],
      "source": [
        "def test_sentence(sentence, model):\n",
        "    model.eval()\n",
        "    test_tensor, len_sent = sentences_to_padded_index_sequences(vocab_indices, [sentence])\n",
        "    score = model(torch.LongTensor(test_tensor.astype(int)).unsqueeze(0).to(device), torch.as_tensor([len_sent]).to(device)).cpu().data.numpy().squeeze()\n",
        "    label = np.argmax(score)\n",
        "    return (\"positive\" if label == 1 else \"negative\", score[label])"
      ]
    },
    {
      "cell_type": "code",
      "execution_count": 42,
      "metadata": {
        "colab": {
          "base_uri": "https://localhost:8080/"
        },
        "id": "xAFUwL-MfkH7",
        "outputId": "d035146b-d8d9-44b0-c1c8-7557100b5a8f"
      },
      "outputs": [
        {
          "output_type": "execute_result",
          "data": {
            "text/plain": [
              "('positive', 1.6810085)"
            ]
          },
          "metadata": {},
          "execution_count": 42
        }
      ],
      "source": [
        "test_sentence(\"Enjoyed the #GOPDebates and am looking forward to the #DemocraticDebates next.\", rnn_model)"
      ]
    },
    {
      "cell_type": "code",
      "execution_count": 43,
      "metadata": {
        "colab": {
          "base_uri": "https://localhost:8080/"
        },
        "id": "j689ttEqfkH_",
        "outputId": "e4dbedd4-0ee9-46e6-815c-a1b7e6c551e5"
      },
      "outputs": [
        {
          "output_type": "execute_result",
          "data": {
            "text/plain": [
              "('negative', 1.0611472)"
            ]
          },
          "metadata": {},
          "execution_count": 43
        }
      ],
      "source": [
        "test_sentence(\"Donald Trump is a really nasty piece of work. Hope he disappears quickly. #GOPDebate\", rnn_model)"
      ]
    },
    {
      "cell_type": "markdown",
      "metadata": {
        "id": "RNnHlWsFfkIB"
      },
      "source": [
        "## Word Embeddings and How to Use Them"
      ]
    },
    {
      "cell_type": "markdown",
      "metadata": {
        "id": "w1MwIJMafkIC"
      },
      "source": [
        "When using deep learning methods on NLP tasks, we usually utilize [word embedding](https://en.wikipedia.org/wiki/Word_embedding). To put it briefly, word embedding represent words, or tokens, in a vocabulary as a distributed numerical vector. There are a lot of methods to obtain a word embedding, with some of the most famous shallow models being Word2Vec, GloVe, and FastText while the deeper models are BERT, RoBERTa, T5. It is not difficult to find a general purpose word embedding trained by one of the aforementioned methods on the Internet that's been trained with a massive amount of data. It is usually a good idea to use these pre-trained embedding to save yourself some time and computing resource."
      ]
    },
    {
      "cell_type": "markdown",
      "metadata": {
        "id": "Ta-GpbQpfkID"
      },
      "source": [
        "In this lab, we will be using the [GloVe embedding](https://nlp.stanford.edu/projects/glove/) developed by Stanford,  one of the state-of-the-art word embedding. Please download the file ```glove.6B.50d.txt``` [here](https://drive.google.com/file/d/1JweINiA5JvTNLTm663LH8OdWssK2Kcid/view?usp=sharing)."
      ]
    },
    {
      "cell_type": "code",
      "execution_count": 45,
      "metadata": {
        "id": "6ErZicnmfkIE"
      },
      "outputs": [],
      "source": [
        "from gensim.scripts.glove2word2vec import glove2word2vec\n",
        "# load embedding\n",
        "\n",
        "_ = glove2word2vec('/content/gdrive/MyDrive/data/glove.6B.50d.txt', 'tmp_file')\n",
        "glove_embedding = KeyedVectors.load_word2vec_format('tmp_file')"
      ]
    },
    {
      "cell_type": "markdown",
      "metadata": {
        "id": "lGTD_re8fkIH"
      },
      "source": [
        "### Word embedding vectors"
      ]
    },
    {
      "cell_type": "markdown",
      "metadata": {
        "id": "qAX0MYIqfkIH"
      },
      "source": [
        "Now we can play around with these vectors to get a sense of how word embeddings can be used to represent words. Here's how you can look up a word embedding vector."
      ]
    },
    {
      "cell_type": "markdown",
      "metadata": {
        "id": "yravXPPBfkIL"
      },
      "source": [
        "### Find similar words\n",
        "\n",
        "The word embedding vectors can help us find words with similar meanings. Word similarities can be measured by [Cosine similarity](https://en.wikipedia.org/wiki/Cosine_similarity). The function below looks up the most similar words to a given word:"
      ]
    },
    {
      "cell_type": "code",
      "execution_count": 46,
      "metadata": {
        "colab": {
          "base_uri": "https://localhost:8080/"
        },
        "id": "PD5uELzwfkIO",
        "outputId": "e14989bf-f896-45fe-dee4-8f818b533c05"
      },
      "outputs": [
        {
          "output_type": "execute_result",
          "data": {
            "text/plain": [
              "[('hatred', 0.7746837139129639),\n",
              " ('shame', 0.7489537000656128),\n",
              " ('racist', 0.7371559143066406),\n",
              " ('anyone', 0.7364715933799744),\n",
              " ('bigotry', 0.7300711870193481)]"
            ]
          },
          "metadata": {},
          "execution_count": 46
        }
      ],
      "source": [
        "glove_embedding.similar_by_word('hate', topn=5)"
      ]
    },
    {
      "cell_type": "markdown",
      "metadata": {
        "id": "SiLnfaRHfkIR"
      },
      "source": [
        "### Word arithmetic"
      ]
    },
    {
      "cell_type": "code",
      "execution_count": 47,
      "metadata": {
        "colab": {
          "base_uri": "https://localhost:8080/"
        },
        "id": "eWh4FHadfkIS",
        "outputId": "d3f6eb5c-eec5-489b-8fcf-731c158acea7"
      },
      "outputs": [
        {
          "output_type": "execute_result",
          "data": {
            "text/plain": [
              "[('worst', 0.8109660148620605)]"
            ]
          },
          "metadata": {},
          "execution_count": 47
        }
      ],
      "source": [
        "glove_embedding.similar_by_word(glove_embedding['worse'] - glove_embedding['better'] + glove_embedding['best'], topn=1)"
      ]
    },
    {
      "cell_type": "code",
      "execution_count": 48,
      "metadata": {
        "colab": {
          "base_uri": "https://localhost:8080/"
        },
        "id": "aPWa4FL4fkIV",
        "outputId": "4b1e3a5d-3529-4ad8-95d2-512ef0c8ec0b"
      },
      "outputs": [
        {
          "output_type": "execute_result",
          "data": {
            "text/plain": [
              "[('king', 0.8859834671020508), ('queen', 0.8609581589698792)]"
            ]
          },
          "metadata": {},
          "execution_count": 48
        }
      ],
      "source": [
        "glove_embedding.similar_by_word(glove_embedding['king'] - glove_embedding['man'] + glove_embedding['woman'], topn=2)"
      ]
    },
    {
      "cell_type": "markdown",
      "metadata": {
        "id": "HVI_p6jDfkIY"
      },
      "source": [
        "### Train an LSTM model withh GloVe embedding"
      ]
    },
    {
      "cell_type": "markdown",
      "metadata": {
        "id": "um2RUjFvfkIZ"
      },
      "source": [
        "Complete the code below. Replace the randomly generated embeddings withh GloVe embeddings. (Hint: check out ```nn.Embedding.weight```). "
      ]
    },
    {
      "cell_type": "code",
      "execution_count": 49,
      "metadata": {
        "id": "fbqo25l6fkIb"
      },
      "outputs": [],
      "source": [
        "class GloveDataset(Dataset):\n",
        "    def __init__(self, embedding, df, label = 'sentiment'):\n",
        "        self.embedding = embedding\n",
        "        self.df = df\n",
        "        self.label = label\n",
        "    \n",
        "    def __len__(self):\n",
        "        return len(self.df)\n",
        "    \n",
        "    def __getitem__(self, key):\n",
        "        sentence = self.df.loc[key,'text']\n",
        "        sentence = re.sub('[\\\\(\\[#.!?,\\'\\/\\])0-9]', ' ', sentence)\n",
        "        \n",
        "        # Deal with recent gensim updates\n",
        "        if int(gensim.__version__[0]) == 4:\n",
        "            token_indices = np.array([self.embedding[word] for word in word_tokenize(sentence.lower()) if word in self.embedding])\n",
        "        else:\n",
        "            token_indices = np.array([self.embedding[word] for word in word_tokenize(sentence.lower()) if word in self.embedding.vocab])\n",
        "        \n",
        "        if len(token_indices):\n",
        "            return (torch.from_numpy(token_indices) , self.df.loc[key, self.label])\n",
        "        else:\n",
        "            return None\n",
        "\n",
        "\n",
        "def pad_collate_glove(batch):\n",
        "    batch = filter(lambda x:x is not None, batch)\n",
        "    (xx, yy) = zip(*batch)\n",
        "    x_lens = [len(x) for x in xx]\n",
        "\n",
        "    xx_pad = pad_sequence(xx, batch_first=True, padding_value=0)\n",
        "\n",
        "    return xx_pad, torch.as_tensor(x_lens), torch.LongTensor(yy)"
      ]
    },
    {
      "cell_type": "code",
      "execution_count": 50,
      "metadata": {
        "colab": {
          "base_uri": "https://localhost:8080/",
          "height": 35
        },
        "id": "t5olLnkihIWM",
        "outputId": "adc840fc-be7d-43fb-e434-aa0844047596"
      },
      "outputs": [
        {
          "output_type": "execute_result",
          "data": {
            "text/plain": [
              "'3'"
            ],
            "application/vnd.google.colaboratory.intrinsic+json": {
              "type": "string"
            }
          },
          "metadata": {},
          "execution_count": 50
        }
      ],
      "source": [
        "gensim.__version__[0]"
      ]
    },
    {
      "cell_type": "code",
      "execution_count": 51,
      "metadata": {
        "id": "bZZg4ZSOfkIe"
      },
      "outputs": [],
      "source": [
        "# Re-indexing tokens\n",
        "train_loader_glove = DataLoader(GloveDataset(glove_embedding, train_data),\n",
        "                                batch_size = BATCH_SIZE,\n",
        "                                shuffle = True,\n",
        "                                collate_fn = pad_collate_glove)\n",
        "test_loader_glove = DataLoader(GloveDataset(glove_embedding, test_data),\n",
        "                               batch_size=BATCH_SIZE,\n",
        "                               shuffle=True,\n",
        "                               collate_fn = pad_collate_glove)"
      ]
    },
    {
      "cell_type": "code",
      "execution_count": 52,
      "metadata": {
        "colab": {
          "base_uri": "https://localhost:8080/"
        },
        "id": "4Bo2pFPqfkIh",
        "outputId": "a651822f-e5e8-4b6c-af6b-41f0c0f1aed2"
      },
      "outputs": [
        {
          "output_type": "stream",
          "name": "stdout",
          "text": [
            "Train set | epoch:   0 |    100/   302 batches | Loss: 0.5354\n",
            "Train set | epoch:   0 |    200/   302 batches | Loss: 0.4304\n",
            "Train set | epoch:   0 |    300/   302 batches | Loss: 0.4382\n",
            "Test set | Accuracy: 79.9627 | AUC: 0.56 | time elapse:  00:00:04\n",
            "Train set | epoch:   1 |    100/   302 batches | Loss: 0.6587\n",
            "Train set | epoch:   1 |    200/   302 batches | Loss: 0.4257\n",
            "Train set | epoch:   1 |    300/   302 batches | Loss: 0.4450\n",
            "Test set | Accuracy: 78.6580 | AUC: 0.71 | time elapse:  00:00:09\n",
            "Train set | epoch:   2 |    100/   302 batches | Loss: 0.3278\n",
            "Train set | epoch:   2 |    200/   302 batches | Loss: 0.4803\n",
            "Train set | epoch:   2 |    300/   302 batches | Loss: 0.2559\n",
            "Test set | Accuracy: 82.8518 | AUC: 0.66 | time elapse:  00:00:14\n",
            "Train set | epoch:   3 |    100/   302 batches | Loss: 0.2573\n",
            "Train set | epoch:   3 |    200/   302 batches | Loss: 0.4476\n",
            "Train set | epoch:   3 |    300/   302 batches | Loss: 0.4004\n",
            "Test set | Accuracy: 82.2926 | AUC: 0.70 | time elapse:  00:00:18\n",
            "Train set | epoch:   4 |    100/   302 batches | Loss: 0.3503\n",
            "Train set | epoch:   4 |    200/   302 batches | Loss: 0.5220\n",
            "Train set | epoch:   4 |    300/   302 batches | Loss: 0.4321\n",
            "Test set | Accuracy: 83.7838 | AUC: 0.69 | time elapse:  00:00:24\n",
            "Train set | epoch:   5 |    100/   302 batches | Loss: 0.3148\n",
            "Train set | epoch:   5 |    200/   302 batches | Loss: 0.2998\n",
            "Train set | epoch:   5 |    300/   302 batches | Loss: 0.2430\n",
            "Test set | Accuracy: 84.4362 | AUC: 0.68 | time elapse:  00:00:28\n",
            "Train set | epoch:   6 |    100/   302 batches | Loss: 0.4496\n",
            "Train set | epoch:   6 |    200/   302 batches | Loss: 0.2830\n",
            "Train set | epoch:   6 |    300/   302 batches | Loss: 0.4161\n",
            "Test set | Accuracy: 84.0634 | AUC: 0.66 | time elapse:  00:00:32\n",
            "Train set | epoch:   7 |    100/   302 batches | Loss: 0.4406\n",
            "Train set | epoch:   7 |    200/   302 batches | Loss: 0.5132\n",
            "Train set | epoch:   7 |    300/   302 batches | Loss: 0.1896\n",
            "Test set | Accuracy: 82.7586 | AUC: 0.67 | time elapse:  00:00:38\n",
            "Train set | epoch:   8 |    100/   302 batches | Loss: 0.2398\n",
            "Train set | epoch:   8 |    200/   302 batches | Loss: 0.2873\n",
            "Train set | epoch:   8 |    300/   302 batches | Loss: 0.3031\n",
            "Test set | Accuracy: 84.3430 | AUC: 0.72 | time elapse:  00:00:43\n",
            "Train set | epoch:   9 |    100/   302 batches | Loss: 0.2135\n",
            "Train set | epoch:   9 |    200/   302 batches | Loss: 0.1954\n",
            "Train set | epoch:   9 |    300/   302 batches | Loss: 0.2057\n",
            "Test set | Accuracy: 84.5294 | AUC: 0.70 | time elapse:  00:00:47\n"
          ]
        }
      ],
      "source": [
        "glove_model = RNN(40, 2, len(vocabulary), 50, rnn='LSTM')\n",
        "# nn.Identity can fill in gaps to provide a consistent architecture.\n",
        "glove_model.emb = nn.Identity()\n",
        "train(glove_model.to(device), train_loader=train_loader_glove, test_loader=test_loader_glove)"
      ]
    },
    {
      "cell_type": "markdown",
      "metadata": {
        "id": "jKwQwYI6BIwg"
      },
      "source": [
        "In the last case we just used the embedding without training it. Let's try and train the GloVe embedding to see if that increases the performance."
      ]
    },
    {
      "cell_type": "code",
      "execution_count": 54,
      "metadata": {
        "colab": {
          "base_uri": "https://localhost:8080/"
        },
        "id": "t-3_a6UkzZwa",
        "outputId": "9146ac08-6a03-4c18-ab89-54ad8107bfdb"
      },
      "outputs": [
        {
          "output_type": "stream",
          "name": "stderr",
          "text": [
            "400000it [00:06, 58457.79it/s]\n"
          ]
        }
      ],
      "source": [
        "import numpy as np\n",
        "from tqdm import tqdm\n",
        "# load embedding\n",
        "emb_dim = 50\n",
        "with open('/content/gdrive/MyDrive/data/glove.6B.50d.txt') as f:\n",
        "    glove_embedding = []\n",
        "    words = {}\n",
        "    chars = {}\n",
        "    idx2words = {}\n",
        "    ordered_words = []\n",
        "\n",
        "    for i, line in tqdm(enumerate(f)):\n",
        "        s = line.split()\n",
        "        glove_embedding.append(np.asarray(s[1:]))\n",
        "        \n",
        "        words[s[0]] = len(words)\n",
        "        idx2words[i] = s[0]\n",
        "        ordered_words.append(s[0])\n",
        "        \n",
        "# add unknown to word and char\n",
        "glove_embedding.append(np.random.rand(emb_dim))\n",
        "words[\"<UNK>\"] = len(words)\n",
        "\n",
        "# add padding\n",
        "glove_embedding.append(np.zeros(emb_dim))\n",
        "words[\"<PAD>\"] = len(words)\n",
        "\n",
        "chars[\"<UNK>\"] = len(chars)\n",
        "chars[\"<PAD>\"] = len(chars)\n",
        "\n",
        "glove_embedding = np.array(glove_embedding).astype(float)"
      ]
    },
    {
      "cell_type": "code",
      "execution_count": 55,
      "metadata": {
        "id": "oxEG3l-izy0N"
      },
      "outputs": [],
      "source": [
        "train_loader_glove = DataLoader(TweetDataset(words, train_data),\n",
        "                                batch_size=BATCH_SIZE,\n",
        "                                shuffle=True,\n",
        "                                collate_fn = pad_collate)\n",
        "test_loader_glove = DataLoader(TweetDataset(words, test_data),\n",
        "                               batch_size=BATCH_SIZE,\n",
        "                               shuffle=True,\n",
        "                               collate_fn = pad_collate)"
      ]
    },
    {
      "cell_type": "code",
      "execution_count": 57,
      "metadata": {
        "colab": {
          "base_uri": "https://localhost:8080/"
        },
        "id": "64PinsMTfkIk",
        "outputId": "f4e06742-6a8a-4df3-f540-de625c51993d"
      },
      "outputs": [
        {
          "output_type": "stream",
          "name": "stdout",
          "text": [
            "Train set | epoch:   0 |    100/   302 batches | Loss: 0.6906\n",
            "Train set | epoch:   0 |    200/   302 batches | Loss: 0.5107\n",
            "Train set | epoch:   0 |    300/   302 batches | Loss: 0.4160\n",
            "Test set | Accuracy: 77.6328 | AUC: 0.72 | time elapse:  00:00:04\n",
            "Train set | epoch:   1 |    100/   302 batches | Loss: 0.2594\n",
            "Train set | epoch:   1 |    200/   302 batches | Loss: 0.2408\n",
            "Train set | epoch:   1 |    300/   302 batches | Loss: 0.3272\n",
            "Test set | Accuracy: 83.5974 | AUC: 0.65 | time elapse:  00:00:10\n",
            "Train set | epoch:   2 |    100/   302 batches | Loss: 0.3115\n",
            "Train set | epoch:   2 |    200/   302 batches | Loss: 0.3220\n",
            "Train set | epoch:   2 |    300/   302 batches | Loss: 0.3446\n",
            "Test set | Accuracy: 82.5722 | AUC: 0.72 | time elapse:  00:00:14\n",
            "Train set | epoch:   3 |    100/   302 batches | Loss: 0.2267\n",
            "Train set | epoch:   3 |    200/   302 batches | Loss: 0.1136\n",
            "Train set | epoch:   3 |    300/   302 batches | Loss: 0.2778\n",
            "Test set | Accuracy: 83.5042 | AUC: 0.74 | time elapse:  00:00:18\n",
            "Train set | epoch:   4 |    100/   302 batches | Loss: 0.2376\n",
            "Train set | epoch:   4 |    200/   302 batches | Loss: 0.2334\n",
            "Train set | epoch:   4 |    300/   302 batches | Loss: 0.1376\n",
            "Test set | Accuracy: 84.2498 | AUC: 0.73 | time elapse:  00:00:24\n",
            "Train set | epoch:   5 |    100/   302 batches | Loss: 0.3756\n",
            "Train set | epoch:   5 |    200/   302 batches | Loss: 0.1721\n",
            "Train set | epoch:   5 |    300/   302 batches | Loss: 0.1177\n",
            "Test set | Accuracy: 84.8090 | AUC: 0.74 | time elapse:  00:00:28\n",
            "Train set | epoch:   6 |    100/   302 batches | Loss: 0.1141\n",
            "Train set | epoch:   6 |    200/   302 batches | Loss: 0.3386\n",
            "Train set | epoch:   6 |    300/   302 batches | Loss: 0.2018\n",
            "Test set | Accuracy: 83.4110 | AUC: 0.72 | time elapse:  00:00:33\n",
            "Train set | epoch:   7 |    100/   302 batches | Loss: 0.0514\n",
            "Train set | epoch:   7 |    200/   302 batches | Loss: 0.1813\n",
            "Train set | epoch:   7 |    300/   302 batches | Loss: 0.1084\n",
            "Test set | Accuracy: 83.9702 | AUC: 0.72 | time elapse:  00:00:38\n",
            "Train set | epoch:   8 |    100/   302 batches | Loss: 0.2595\n",
            "Train set | epoch:   8 |    200/   302 batches | Loss: 0.1093\n",
            "Train set | epoch:   8 |    300/   302 batches | Loss: 0.1212\n",
            "Test set | Accuracy: 83.9702 | AUC: 0.72 | time elapse:  00:00:42\n",
            "Train set | epoch:   9 |    100/   302 batches | Loss: 0.2953\n",
            "Train set | epoch:   9 |    200/   302 batches | Loss: 0.3345\n",
            "Train set | epoch:   9 |    300/   302 batches | Loss: 0.3033\n",
            "Test set | Accuracy: 83.4110 | AUC: 0.74 | time elapse:  00:00:47\n"
          ]
        }
      ],
      "source": [
        "glove_model = RNN(40, 2, len(glove_embedding), 50, rnn='LSTM')\n",
        "glove_model.emb.weight.data.copy_(torch.from_numpy(glove_embedding))\n",
        "train(glove_model.to(device), train_loader=train_loader_glove, test_loader=test_loader_glove)"
      ]
    },
    {
      "cell_type": "markdown",
      "metadata": {
        "id": "go446RJJBUw9"
      },
      "source": [
        "The model seems to have overfit here. We can increase the regularization through weight decay/dropout to get better results."
      ]
    }
  ],
  "metadata": {
    "accelerator": "GPU",
    "colab": {
      "provenance": []
    },
    "kernelspec": {
      "display_name": "Python 3",
      "language": "python",
      "name": "python3"
    },
    "language_info": {
      "codemirror_mode": {
        "name": "ipython",
        "version": 3
      },
      "file_extension": ".py",
      "mimetype": "text/x-python",
      "name": "python",
      "nbconvert_exporter": "python",
      "pygments_lexer": "ipython3",
      "version": "3.8.5"
    },
    "gpuClass": "standard"
  },
  "nbformat": 4,
  "nbformat_minor": 0
}