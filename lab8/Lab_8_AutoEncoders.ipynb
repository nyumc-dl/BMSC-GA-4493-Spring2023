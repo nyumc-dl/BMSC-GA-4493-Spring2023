{
  "nbformat": 4,
  "nbformat_minor": 0,
  "metadata": {
    "colab": {
      "provenance": []
    },
    "kernelspec": {
      "name": "python3",
      "display_name": "Python 3"
    },
    "language_info": {
      "name": "python"
    }
  },
  "cells": [
    {
      "cell_type": "code",
      "execution_count": 1,
      "metadata": {
        "id": "CLjtbrfudE7p"
      },
      "outputs": [],
      "source": [
        "import torch\n",
        "import torchvision\n",
        "from torch import nn\n",
        "from torch.utils.data import DataLoader\n",
        "from torchvision import transforms\n",
        "from torchvision.datasets import MNIST\n",
        "from matplotlib import pyplot as plt\n",
        "from tqdm import trange"
      ]
    },
    {
      "cell_type": "code",
      "source": [
        "device = torch.device(\"cuda:0\" if torch.cuda.is_available() else \"cpu\")"
      ],
      "metadata": {
        "id": "PiGBtIn6dOMU"
      },
      "execution_count": 2,
      "outputs": []
    },
    {
      "cell_type": "code",
      "source": [
        "def display_images(in_, out, n=1):\n",
        "    def to_img(x):\n",
        "      x = 0.5 * (x + 1)\n",
        "      x = x.view(x.size(0), 28, 28)\n",
        "      return x\n",
        "\n",
        "    for N in range(n):\n",
        "        if in_ is not None:\n",
        "            in_pic = to_img(in_.cpu().data) #convert inputs tensors to cpu, and then get tensor values by calling data() because pyplot doesn’t support the functions on GPU. \n",
        "            plt.figure(figsize=(18, 6))\n",
        "            for i in range(4):\n",
        "                plt.subplot(1,4,i+1)\n",
        "                plt.imshow(in_pic[i+4*N])\n",
        "                plt.axis('off')\n",
        "        out_pic = to_img(out.cpu().data)\n",
        "        plt.figure(figsize=(18, 6))\n",
        "        for i in range(4):\n",
        "            plt.subplot(1,4,i+1)\n",
        "            plt.imshow(out_pic[i+4*N])\n",
        "            plt.axis('off')\n"
      ],
      "metadata": {
        "id": "Vmuf_H1CdO0J"
      },
      "execution_count": 3,
      "outputs": []
    },
    {
      "cell_type": "code",
      "source": [
        "batch_size = 256\n",
        "\n",
        "img_transform = transforms.Compose(\n",
        "    [\n",
        "      transforms.ToTensor(),  \n",
        "      transforms.Normalize((0.5),(0.5)) \n",
        "    ]\n",
        ")\n",
        "dataset = MNIST('./data', transform= img_transform, download= True)\n",
        "dataloader = DataLoader(dataset, batch_size= batch_size, shuffle= True)"
      ],
      "metadata": {
        "id": "sBmI2jHNdQCP"
      },
      "execution_count": 4,
      "outputs": []
    },
    {
      "cell_type": "code",
      "source": [
        "\n",
        "class Autoencoder(nn.Module):\n",
        "\n",
        "  def __init-__(self) -> None:\n",
        "      super().__init__()\n",
        "      self.encoder = nn.Sequential(\n",
        "          nn.Linear(28*28,500),\n",
        "          nn.Tanh()\n",
        "      )\n",
        "      self.decoder = nn.Sequential(\n",
        "          nn.Linear(500,28*28),\n",
        "          nn.Tanh()\n",
        "      )\n",
        "  def forward(self, x):\n",
        "    x = self.encoder(x)\n",
        "    x = self.decoder(x)\n",
        "    return x"
      ],
      "metadata": {
        "id": "NXYmifN9vPBo"
      },
      "execution_count": 5,
      "outputs": []
    },
    {
      "cell_type": "code",
      "source": [
        "\n",
        "\n",
        "# class Autoencoder(nn.Module):\n",
        "\n",
        "#   def __init__(self) -> None:\n",
        "#       super().__init__()\n",
        "\n",
        "#       # Building an linear encoder with Linear\n",
        "#         # layer followed by Relu activation function\n",
        "#         # 784 ==> 9\n",
        "#       self.encoder = torch.nn.Sequential(\n",
        "#           torch.nn.Linear(28 * 28, 128),\n",
        "#           torch.nn.ReLU(),\n",
        "#           torch.nn.Linear(128, 64),\n",
        "#           torch.nn.ReLU(),\n",
        "#           torch.nn.Linear(64, 36),\n",
        "#           torch.nn.ReLU(),\n",
        "#           torch.nn.Linear(36, 18),\n",
        "#           torch.nn.ReLU(),\n",
        "#           torch.nn.Linear(18, 9)\n",
        "#       )\n",
        "         \n",
        "#         # Building an linear decoder with Linear\n",
        "#         # layer followed by Relu activation function\n",
        "#         # The Sigmoid activation function\n",
        "#         # outputs the value between 0 and 1\n",
        "#         # 9 ==> 784\n",
        "#       self.decoder = torch.nn.Sequential(\n",
        "#           torch.nn.Linear(9, 18),\n",
        "#           torch.nn.ReLU(),\n",
        "#           torch.nn.Linear(18, 36),\n",
        "#           torch.nn.ReLU(),\n",
        "#           torch.nn.Linear(36, 64),\n",
        "#           torch.nn.ReLU(),\n",
        "#           torch.nn.Linear(64, 128),\n",
        "#           torch.nn.ReLU(),\n",
        "#           torch.nn.Linear(128, 28 * 28),\n",
        "#           torch.nn.Sigmoid()\n",
        "#       )\n",
        "\n",
        "#   def forward(self, x):\n",
        "#     x = self.encoder(x)\n",
        "#     x = self.decoder(x)\n",
        "#     return x"
      ],
      "metadata": {
        "id": "RZmac5IKdcFY"
      },
      "execution_count": 26,
      "outputs": []
    },
    {
      "cell_type": "code",
      "source": [
        "\n",
        "model = Autoencoder().to(device)\n",
        "criterion = nn.MSELoss()\n",
        "     "
      ],
      "metadata": {
        "id": "5V-upCVev9ad"
      },
      "execution_count": 6,
      "outputs": []
    },
    {
      "cell_type": "code",
      "source": [
        "lr = 1e-3\n",
        "optimizer = torch.optim.Adam(\n",
        "    model.parameters(),\n",
        "    lr = lr\n",
        ")"
      ],
      "metadata": {
        "id": "nMAwC7_Yv_2d"
      },
      "execution_count": 7,
      "outputs": []
    },
    {
      "cell_type": "code",
      "source": [
        "NUM_EPOCHS = 5 #run for atleast 20 epochs\n",
        "\n",
        "NOISE_STD = 0.6\n",
        "\n",
        "do = nn.Dropout()\n",
        "\n",
        "for epoch in trange(NUM_EPOCHS):\n",
        "\n",
        "  for data in dataloader:\n",
        "\n",
        "    img, _ = data\n",
        "    img = img.to(device)\n",
        "    img = img.view(img.size(0),-1)\n",
        "\n",
        "    # For Dropout\n",
        "    noise = do(torch.ones(img.shape)).to(device)\n",
        "    img_bad = (img*noise).to(device)\n",
        "\n",
        "    # Gaussian Noise\n",
        "    # img_bad = img + torch.FloatTensor(img.size()).normal_(std = NOISE_STD)\n",
        "    output = model(img_bad)\n",
        "\n",
        "    loss = criterion(output, img.data)\n",
        "    optimizer.zero_grad()\n",
        "    loss.backward()\n",
        "    optimizer.step()\n",
        "  \n",
        "     \n"
      ],
      "metadata": {
        "colab": {
          "base_uri": "https://localhost:8080/"
        },
        "id": "hzJTW8UNv_-e",
        "outputId": "9e289422-956b-4d04-f31b-2bdea170d85c"
      },
      "execution_count": 9,
      "outputs": [
        {
          "output_type": "stream",
          "name": "stderr",
          "text": [
            "100%|██████████| 5/5 [01:52<00:00, 22.59s/it]\n"
          ]
        }
      ]
    },
    {
      "cell_type": "code",
      "source": [
        "display_images(None, img)"
      ],
      "metadata": {
        "colab": {
          "base_uri": "https://localhost:8080/",
          "height": 325
        },
        "id": "2EeDy3AKgJ76",
        "outputId": "4a4a05b6-efaa-4b09-ecdf-80939e9846d0"
      },
      "execution_count": 10,
      "outputs": [
        {
          "output_type": "display_data",
          "data": {
            "text/plain": [
              "<Figure size 1800x600 with 4 Axes>"
            ],
            "image/png": "[encoded data removed]"
          },
          "metadata": {}
        }
      ]
    },
    {
      "cell_type": "code",
      "source": [
        "display_images(None, img_bad)"
      ],
      "metadata": {
        "colab": {
          "base_uri": "https://localhost:8080/",
          "height": 325
        },
        "id": "IXpTdf-xgn8f",
        "outputId": "7568c4fe-e10d-4ffd-efa4-aa108125184c"
      },
      "execution_count": 11,
      "outputs": [
        {
          "output_type": "display_data",
          "data": {
            "text/plain": [
              "<Figure size 1800x600 with 4 Axes>"
            ],
            "image/png": "[encoded data removed]"
          },
          "metadata": {}
        }
      ]
    },
    {
      "cell_type": "code",
      "source": [
        "display_images(None, output)"
      ],
      "metadata": {
        "colab": {
          "base_uri": "https://localhost:8080/",
          "height": 325
        },
        "id": "Vxpj3fUMgQCA",
        "outputId": "d5f54bab-b9ae-4c4c-ac82-cb2715cc6581"
      },
      "execution_count": 12,
      "outputs": [
        {
          "output_type": "display_data",
          "data": {
            "text/plain": [
              "<Figure size 1800x600 with 4 Axes>"
            ],
            "image/png": "[encoded data removed]"
          },
          "metadata": {}
        }
      ]
    },
    {
      "cell_type": "markdown",
      "source": [
        "# Also see T-SNE Visualization at \n",
        "https://github.com/nyumc-dl/BMSC-GA-4493-Spring2020/blob/master/lab7/lab7.ipynb"
      ],
      "metadata": {
        "id": "4mUnfQc0IUip"
      }
    }
  ]
}