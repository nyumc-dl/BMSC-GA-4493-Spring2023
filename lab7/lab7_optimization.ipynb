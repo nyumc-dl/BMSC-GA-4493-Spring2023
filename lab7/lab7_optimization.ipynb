{
  "cells": [
    {
      "cell_type": "markdown",
      "metadata": {
        "id": "JlFb4XP0ZyE6"
      },
      "source": [
        "# Lab 7: Optimization and Regularization \n",
        "\n",
        "\n",
        "\n",
        "The goal of this lab is to learn how to apply different regularization and optimization strategies in PyTorch using MNIST data.\n",
        "\n",
        "Here is a list of the techniques we've covered in class\n",
        "- Optimization\n",
        "    - SGD\n",
        "    - SGD (with momentum)\n",
        "    - Nesterov momentum\n",
        "    - AdaGrad\n",
        "    - RMSProp\n",
        "    - Adam\n",
        "- Some regularization\n",
        "    - Dropout\n",
        "    - Batch normalization\n",
        "\n",
        " "
      ]
    },
    {
      "cell_type": "markdown",
      "metadata": {
        "id": "X-R98V1kZyE8"
      },
      "source": [
        "## Problem Setup"
      ]
    },
    {
      "cell_type": "code",
      "execution_count": 1,
      "metadata": {
        "id": "NQapEgFgZyE8"
      },
      "outputs": [],
      "source": [
        "import time\n",
        "import numpy as np\n",
        "import copy\n",
        "import torch\n",
        "import torch.nn as nn\n",
        "import torch.nn.functional as F\n",
        "import torch.optim as optim\n",
        "from torchvision import datasets, transforms\n",
        "import matplotlib.pyplot as plt\n",
        "%matplotlib inline"
      ]
    },
    {
      "cell_type": "code",
      "execution_count": 2,
      "metadata": {
        "id": "kKm8-cdxZyE9"
      },
      "outputs": [],
      "source": [
        "# Initialize necessary parameters\n",
        "device = torch.device(\"cuda\" if torch.cuda.is_available() else \"cpu\")\n",
        "# if torch.cuda.is_available():\n",
        "#     torch.cuda.manual_seed(717)\n",
        "\n",
        "seed = 345\n",
        "batch_size = {'train': 64,\n",
        "              'val': 1000}\n",
        "input_size = 28 * 28\n",
        "output_size = 10\n",
        "n_feature = 3\n",
        "optim_results = {}"
      ]
    },
    {
      "cell_type": "code",
      "execution_count": 3,
      "metadata": {
        "colab": {
          "base_uri": "https://localhost:8080/",
          "height": 431,
          "referenced_widgets": [
            "c42ce2369c77465485d69a0c7cdf647c",
            "96447cf37e734a01a1af5dd8218783e4",
            "92bb4b5560114a0d8283c406a22cc229",
            "6476fd80c9b443c39fb69476aedd84af",
            "03503418bd23431ab630d704a0134222",
            "4516212dd7e44b1da127deae81c5811f",
            "05c14803479f4c07ae6f1f06e0d0b323",
            "9293c6e4e1cf4df6847d0c51155f38cb",
            "21030997facb49ef9d1364edf90059da",
            "9588ecc4db78406e9649731b5ce5f675",
            "d471178ebc59444997cd8cd10a51ce58",
            "c4e2bf58a58943c9bd24091d2267537b",
            "d5e7a4b14815401d8d7b940bd00fe3cd",
            "a1b2eab2bf744c20a5cffbb6b3b486de",
            "26658f2d79d04a039025a80b5ae14b1b",
            "a81d2730e1724681839cdd3af39f4b9e",
            "63f207ffcf89483f8a719d715d5a79ca",
            "9d3307ebd62844f887f45ecff99befff",
            "35f220bb4a054a09aef44fd62014234e",
            "93367425935a4939a4656ac8dcf6bc5b",
            "d742150b97264f859ff5794cfb91296a",
            "14e390918c704d85a65db7e6e188b3f1",
            "441f49662f824a748cb70c9a2e560f69",
            "977105622bc148619b83c1f5c02034f2",
            "80efabb290ab41ca93a718c83d0686f6",
            "046cb7ea94244fd9b9b1e159d55345a4",
            "11b728073658462db0ed42ca8c9b5a30",
            "5ed1bd09d3e1458690651845445c4314",
            "6f5fe875ab07447892cd47affaa5a616",
            "44f45c5d445e46a3bab8b25693644642",
            "fc6842059a2b470fafb960e787e8900e",
            "469c0f1c21ce46288315adc63edd53ab",
            "a45d5aced7e449a19e059e15ca683432",
            "30c3ade150784b5faef07adc86833756",
            "970b95f8e67d46afbf0447bb6aebdd69",
            "bbabaaa3675b40ae8d33f8fef70e7c44",
            "45a6663e2caf42249fb2835a21dc1050",
            "6ddd9a2382dc4760874f0bd9623df453",
            "36c0a592644245598d7290322326bc74",
            "d04af27a3dfd4176b7e00a8db2827fc0",
            "163ea067b36a480ea75da0368a332432",
            "3d373dceed8a460a859681e139444649",
            "2478238b12a14869aa15fd17becc4400",
            "cb204508df424d9582e4cac212448b03"
          ]
        },
        "id": "_tgm63qRZyE-",
        "outputId": "ff65522c-18f6-47ac-e57d-16df54bc3ac2"
      },
      "outputs": [
        {
          "output_type": "stream",
          "name": "stdout",
          "text": [
            "Downloading http://yann.lecun.com/exdb/mnist/train-images-idx3-ubyte.gz\n",
            "Downloading http://yann.lecun.com/exdb/mnist/train-images-idx3-ubyte.gz to data/MNIST/raw/train-images-idx3-ubyte.gz\n"
          ]
        },
        {
          "output_type": "display_data",
          "data": {
            "text/plain": [
              "  0%|          | 0/9912422 [00:00<?, ?it/s]"
            ],
            "application/vnd.jupyter.widget-view+json": {
              "version_major": 2,
              "version_minor": 0,
              "model_id": "c42ce2369c77465485d69a0c7cdf647c"
            }
          },
          "metadata": {}
        },
        {
          "output_type": "stream",
          "name": "stdout",
          "text": [
            "Extracting data/MNIST/raw/train-images-idx3-ubyte.gz to data/MNIST/raw\n",
            "\n",
            "Downloading http://yann.lecun.com/exdb/mnist/train-labels-idx1-ubyte.gz\n",
            "Downloading http://yann.lecun.com/exdb/mnist/train-labels-idx1-ubyte.gz to data/MNIST/raw/train-labels-idx1-ubyte.gz\n"
          ]
        },
        {
          "output_type": "display_data",
          "data": {
            "text/plain": [
              "  0%|          | 0/28881 [00:00<?, ?it/s]"
            ],
            "application/vnd.jupyter.widget-view+json": {
              "version_major": 2,
              "version_minor": 0,
              "model_id": "c4e2bf58a58943c9bd24091d2267537b"
            }
          },
          "metadata": {}
        },
        {
          "output_type": "stream",
          "name": "stdout",
          "text": [
            "Extracting data/MNIST/raw/train-labels-idx1-ubyte.gz to data/MNIST/raw\n",
            "\n",
            "Downloading http://yann.lecun.com/exdb/mnist/t10k-images-idx3-ubyte.gz\n",
            "Downloading http://yann.lecun.com/exdb/mnist/t10k-images-idx3-ubyte.gz to data/MNIST/raw/t10k-images-idx3-ubyte.gz\n"
          ]
        },
        {
          "output_type": "display_data",
          "data": {
            "text/plain": [
              "  0%|          | 0/1648877 [00:00<?, ?it/s]"
            ],
            "application/vnd.jupyter.widget-view+json": {
              "version_major": 2,
              "version_minor": 0,
              "model_id": "441f49662f824a748cb70c9a2e560f69"
            }
          },
          "metadata": {}
        },
        {
          "output_type": "stream",
          "name": "stdout",
          "text": [
            "Extracting data/MNIST/raw/t10k-images-idx3-ubyte.gz to data/MNIST/raw\n",
            "\n",
            "Downloading http://yann.lecun.com/exdb/mnist/t10k-labels-idx1-ubyte.gz\n",
            "Downloading http://yann.lecun.com/exdb/mnist/t10k-labels-idx1-ubyte.gz to data/MNIST/raw/t10k-labels-idx1-ubyte.gz\n"
          ]
        },
        {
          "output_type": "display_data",
          "data": {
            "text/plain": [
              "  0%|          | 0/4542 [00:00<?, ?it/s]"
            ],
            "application/vnd.jupyter.widget-view+json": {
              "version_major": 2,
              "version_minor": 0,
              "model_id": "30c3ade150784b5faef07adc86833756"
            }
          },
          "metadata": {}
        },
        {
          "output_type": "stream",
          "name": "stdout",
          "text": [
            "Extracting data/MNIST/raw/t10k-labels-idx1-ubyte.gz to data/MNIST/raw\n",
            "\n"
          ]
        }
      ],
      "source": [
        "# Data Loader\n",
        "trainset = datasets.MNIST('data', train=True, download=True,\n",
        "                          transform=transforms.Compose([\n",
        "                              transforms.ToTensor(),\n",
        "                              transforms.Normalize((0.1307,), (0.3081,))]))\n",
        "testset = datasets.MNIST('data', train=False, \n",
        "                         transform=transforms.Compose([\n",
        "                             transforms.ToTensor(),\n",
        "                             transforms.Normalize((0.1307,), (0.3081,))]))\n",
        "\n",
        "mnist_datasets = {'train': trainset, \n",
        "            'val': testset}\n",
        "dataset_sizes = {x: len(mnist_datasets[x]) for x in ['train', 'val']}\n",
        "dataloaders = {x: torch.utils.data.DataLoader(mnist_datasets[x], batch_size=batch_size[x], shuffle=True)\n",
        "              for x in ['train', 'val']}"
      ]
    },
    {
      "cell_type": "code",
      "execution_count": 4,
      "metadata": {
        "colab": {
          "base_uri": "https://localhost:8080/",
          "height": 402
        },
        "id": "qkxXZ4ChZyE-",
        "outputId": "ac5dd059-ad69-4024-cbb3-bde3ff065319"
      },
      "outputs": [
        {
          "output_type": "display_data",
          "data": {
            "text/plain": [
              "<Figure size 864x576 with 10 Axes>"
            ],
            "image/png": "[encoded data removed]"
          },
          "metadata": {
            "needs_background": "light"
          }
        }
      ],
      "source": [
        "## show some images\n",
        "plt.figure(figsize = (12, 8))\n",
        "for i in range(10):\n",
        "    plt.subplot(2, 5, i + 1)\n",
        "    image, _ = dataloaders['train'].dataset.__getitem__(i)\n",
        "    plt.imshow(image.squeeze().numpy())"
      ]
    },
    {
      "cell_type": "code",
      "execution_count": 5,
      "metadata": {
        "id": "C8yvcEstZyE_"
      },
      "outputs": [],
      "source": [
        "def train_model(model, optimizer, num_epochs=1, verbose = True, print_every = 100):\n",
        "    since = time.time()\n",
        "\n",
        "    best_model_wts = copy.deepcopy(model.state_dict())\n",
        "    best_acc = 0.0\n",
        "    loss_dict = {'train': [], 'val': []}\n",
        "    \n",
        "    criterion = nn.CrossEntropyLoss()\n",
        "\n",
        "    for epoch in range(num_epochs):\n",
        "        print('Epoch {}/{}'.format(epoch, num_epochs - 1))\n",
        "        print('-' * 10)\n",
        "\n",
        "        # Each epoch has a training and validation phase\n",
        "        for phase in ['train', 'val']:\n",
        "            if phase == 'train':\n",
        "                model.train(True)  # Set model to training mode\n",
        "            else:\n",
        "                model.train(False)  # Set model to evaluate mode\n",
        "\n",
        "            running_loss = 0.0\n",
        "            running_corrects = 0\n",
        "\n",
        "            # Iterate over data.\n",
        "            for batch_idx, data in enumerate(dataloaders[phase]):\n",
        "                # get the inputs\n",
        "                inputs, labels = data\n",
        "\n",
        "                inputs = inputs.to(device)\n",
        "                labels = labels.to(device)\n",
        "\n",
        "                # zero the parameter gradients\n",
        "                optimizer.zero_grad()\n",
        "\n",
        "                # forward\n",
        "                with torch.set_grad_enabled(phase == 'train'):\n",
        "                    outputs = model(inputs)\n",
        "                    _, preds = torch.max(outputs, 1)\n",
        "                    loss = criterion(outputs, labels)\n",
        "                \n",
        "                # backward + optimize only if in training phase\n",
        "                if phase == 'train':\n",
        "                    loss.backward()\n",
        "                    optimizer.step()\n",
        "\n",
        "                # statistics\n",
        "                running_loss += loss.item() * inputs.size()[0]\n",
        "                running_corrects += torch.sum(preds == labels).item()\n",
        "                \n",
        "                if verbose and batch_idx % print_every == 0:\n",
        "                    print('Train set | epoch: {:3d} | {:6d}/{:6d} batches | Loss: {:6.4f}'.format(\n",
        "                        epoch, batch_idx * len(inputs), len(dataloaders[phase].dataset), loss.item()))\n",
        "                    loss_dict[phase].append(running_loss/((batch_idx + 1) * len(inputs)))\n",
        "\n",
        "            epoch_loss = running_loss / dataset_sizes[phase]\n",
        "            epoch_acc = running_corrects / dataset_sizes[phase]\n",
        "            loss_dict[phase].append(epoch_loss)\n",
        "\n",
        "            print('{} Loss: {:.4f} Acc: {:.4f}'.format(phase, epoch_loss, epoch_acc))\n",
        "\n",
        "            # deep copy the model\n",
        "            if phase == 'val' and epoch_acc > best_acc:\n",
        "                best_acc = epoch_acc\n",
        "                best_model_wts = copy.deepcopy(model.state_dict())\n",
        "        print()\n",
        "\n",
        "    time_elapsed = time.time() - since\n",
        "    print('Training complete in {:.0f}m {:.0f}s'.format(\n",
        "        time_elapsed // 60, time_elapsed % 60))\n",
        "    print('Best val Acc: {:4f}'.format(best_acc))\n",
        "\n",
        "    # load best model weights\n",
        "    model.load_state_dict(best_model_wts)\n",
        "    return model, loss_dict\n",
        "\n",
        "def populate_result(dictionary, method, train_loss, val_loss):\n",
        "    dictionary[method] = {}\n",
        "    dictionary[method]['train_loss'] = np.array(train_loss)\n",
        "    dictionary[method]['val_loss'] = np.array(val_loss)\n",
        "    \n",
        "def plot_loss(result, loss='train_loss', ylim=None):\n",
        "    plt.plot(result['Baseline'][loss], label='Baseline')\n",
        "    for k in result.keys():\n",
        "        if k != 'Baseline':\n",
        "            plt.plot(result[k][loss], label=k)\n",
        "    if ylim is not None:\n",
        "        plt.ylim(ylim)\n",
        "    plt.xlabel('Steps')\n",
        "    plt.ylabel('Loss')\n",
        "    plt.legend()\n",
        "    plt.show()\n",
        "    \n",
        "def plot_best_loss(result, loss='val_loss'):\n",
        "    labels = ['Baseline']\n",
        "    acc = [np.max(result['Baseline'][loss])]\n",
        "    for k in result.keys():\n",
        "        if k != 'Baseline':\n",
        "            labels.append(k)\n",
        "            acc.append(np.max(result[k][loss]))\n",
        "\n",
        "    x = np.arange(len(labels))\n",
        "    plt.barh(x, acc)\n",
        "    plt.yticks(x, labels)\n",
        "    plt.xlabel('Loss')\n",
        "    plt.show()"
      ]
    },
    {
      "cell_type": "markdown",
      "metadata": {
        "id": "EhE7eJunZyFA"
      },
      "source": [
        "### Baseline method\n",
        "\n",
        "We will later show how different optimization and regularization techniques can improve baseline model performance. But first,\n",
        "1. What's our baseline model architecture?\n",
        "2. What's the optimization method used to train the baseline model?\n",
        "3. How does this optimization method update its parameters.\n",
        "$$\\theta_{t+1} = \\theta_{t} - \\eta \\nabla J(\\theta_{t})$$\n",
        "where $\\eta$ denotes the learning rate"
      ]
    },
    {
      "cell_type": "code",
      "execution_count": 6,
      "metadata": {
        "id": "LGXpfOKrZyFA"
      },
      "outputs": [],
      "source": [
        "class Baseline(nn.Module):\n",
        "    def __init__(self, n_feature, output_size):\n",
        "        super(Baseline, self).__init__()\n",
        "        self.n_feature = n_feature\n",
        "        self.conv1 = nn.Sequential(nn.Conv2d(1, n_feature, kernel_size=5),\n",
        "                                   nn.ReLU(),\n",
        "                                   nn.MaxPool2d(2))\n",
        "        self.conv2 = nn.Sequential(nn.Conv2d(n_feature, n_feature, kernel_size=5),\n",
        "                                   nn.ReLU(),\n",
        "                                   nn.MaxPool2d(2))\n",
        "        self.fc = nn.Sequential(nn.Linear(n_feature*4*4, 50),\n",
        "                                nn.ReLU(),\n",
        "                                nn.Linear(50, 10))\n",
        "\n",
        "\n",
        "    def forward(self, x, verbose=False):\n",
        "        x = self.conv1(x)\n",
        "        x = self.conv2(x)\n",
        "        x = x.view(-1, self.n_feature*4*4)\n",
        "        x = self.fc(x)\n",
        "        return x"
      ]
    },
    {
      "cell_type": "code",
      "execution_count": 7,
      "metadata": {
        "colab": {
          "base_uri": "https://localhost:8080/"
        },
        "id": "F2JR8ASUZyFB",
        "outputId": "e15d8f21-2f85-4d4e-84d5-b4c26c5d7d03"
      },
      "outputs": [
        {
          "output_type": "stream",
          "name": "stdout",
          "text": [
            "Epoch 0/0\n",
            "----------\n",
            "Train set | epoch:   0 |      0/ 60000 batches | Loss: 2.3086\n",
            "Train set | epoch:   0 |   6400/ 60000 batches | Loss: 2.2738\n",
            "Train set | epoch:   0 |  12800/ 60000 batches | Loss: 2.1942\n",
            "Train set | epoch:   0 |  19200/ 60000 batches | Loss: 1.2512\n",
            "Train set | epoch:   0 |  25600/ 60000 batches | Loss: 0.6579\n",
            "Train set | epoch:   0 |  32000/ 60000 batches | Loss: 0.5887\n",
            "Train set | epoch:   0 |  38400/ 60000 batches | Loss: 0.3759\n",
            "Train set | epoch:   0 |  44800/ 60000 batches | Loss: 0.4277\n",
            "Train set | epoch:   0 |  51200/ 60000 batches | Loss: 0.4009\n",
            "Train set | epoch:   0 |  57600/ 60000 batches | Loss: 0.4349\n",
            "train Loss: 1.0557 Acc: 0.6520\n",
            "Train set | epoch:   0 |      0/ 10000 batches | Loss: 0.3390\n",
            "val Loss: 0.3611 Acc: 0.8949\n",
            "\n",
            "Training complete in 0m 26s\n",
            "Best val Acc: 0.894900\n"
          ]
        }
      ],
      "source": [
        "torch.manual_seed(seed)\n",
        "model = Baseline(n_feature, output_size).to(device)\n",
        "optimizer = optim.SGD(model.parameters(),lr=0.01)\n",
        "model, loss_dict = train_model(model, optimizer)\n",
        "populate_result(optim_results, 'Baseline', loss_dict['train'], loss_dict['val'])"
      ]
    },
    {
      "cell_type": "markdown",
      "metadata": {
        "id": "4e27fqjeZyFB"
      },
      "source": [
        "## Fancier Optimization\n",
        "\n",
        "https://pytorch.org/docs/stable/optim.html"
      ]
    },
    {
      "cell_type": "markdown",
      "metadata": {
        "id": "Bsw-F03OZyFB"
      },
      "source": [
        "### SGD with momentum\n",
        "1. How does SGD with momentum update its parameters?\n",
        "$$v_{t+1} = \\rho v_{t} + \\nabla J(\\theta_{t})$$\n",
        "$$\\theta_{t+1} = \\theta_{t} - \\eta v_{t+1}$$\n",
        "where $v$ and $\\rho$ denote velocity and momentum, respectively.\n",
        "2. Check out the documentation for SGD in PyTorch and complete the code below (Set momentum=0.5). "
      ]
    },
    {
      "cell_type": "code",
      "execution_count": 8,
      "metadata": {
        "colab": {
          "base_uri": "https://localhost:8080/"
        },
        "id": "lJJkTwXfZyFB",
        "outputId": "649b94ae-88c9-4196-e02a-d34b77884fc7"
      },
      "outputs": [
        {
          "output_type": "stream",
          "name": "stdout",
          "text": [
            "Epoch 0/0\n",
            "----------\n",
            "Train set | epoch:   0 |      0/ 60000 batches | Loss: 2.3086\n",
            "Train set | epoch:   0 |   6400/ 60000 batches | Loss: 2.2016\n",
            "Train set | epoch:   0 |  12800/ 60000 batches | Loss: 0.8078\n",
            "Train set | epoch:   0 |  19200/ 60000 batches | Loss: 0.4479\n",
            "Train set | epoch:   0 |  25600/ 60000 batches | Loss: 0.5111\n",
            "Train set | epoch:   0 |  32000/ 60000 batches | Loss: 0.4338\n",
            "Train set | epoch:   0 |  38400/ 60000 batches | Loss: 0.3512\n",
            "Train set | epoch:   0 |  44800/ 60000 batches | Loss: 0.3868\n",
            "Train set | epoch:   0 |  51200/ 60000 batches | Loss: 0.3420\n",
            "Train set | epoch:   0 |  57600/ 60000 batches | Loss: 0.2814\n",
            "train Loss: 0.7258 Acc: 0.7628\n",
            "Train set | epoch:   0 |      0/ 10000 batches | Loss: 0.2514\n",
            "val Loss: 0.2660 Acc: 0.9202\n",
            "\n",
            "Training complete in 0m 26s\n",
            "Best val Acc: 0.920200\n"
          ]
        }
      ],
      "source": [
        "torch.manual_seed(seed)\n",
        "model = Baseline(n_feature, output_size).to(device)\n",
        "optimizer = optim.SGD(model.parameters(),lr=0.01, momentum=0.5)\n",
        "model, loss_dict = train_model(model, optimizer)\n",
        "populate_result(optim_results, 'SGD_momentum', loss_dict['train'], loss_dict['val'])"
      ]
    },
    {
      "cell_type": "markdown",
      "metadata": {
        "id": "p8x_XT8bZyFC"
      },
      "source": [
        "### Nesterov momentum\n",
        "\n",
        "Make a minor change in the above code to apply Nesterov momentum (Set momentum=0.5). "
      ]
    },
    {
      "cell_type": "code",
      "execution_count": 9,
      "metadata": {
        "colab": {
          "base_uri": "https://localhost:8080/"
        },
        "id": "lYxxHcLtZyFC",
        "outputId": "93f0f8be-0023-4d5b-d362-24234b29bdba"
      },
      "outputs": [
        {
          "output_type": "stream",
          "name": "stdout",
          "text": [
            "Epoch 0/0\n",
            "----------\n",
            "Train set | epoch:   0 |      0/ 60000 batches | Loss: 2.3086\n",
            "Train set | epoch:   0 |   6400/ 60000 batches | Loss: 2.1984\n",
            "Train set | epoch:   0 |  12800/ 60000 batches | Loss: 0.8503\n",
            "Train set | epoch:   0 |  19200/ 60000 batches | Loss: 0.4673\n",
            "Train set | epoch:   0 |  25600/ 60000 batches | Loss: 0.4911\n",
            "Train set | epoch:   0 |  32000/ 60000 batches | Loss: 0.4254\n",
            "Train set | epoch:   0 |  38400/ 60000 batches | Loss: 0.3275\n",
            "Train set | epoch:   0 |  44800/ 60000 batches | Loss: 0.3919\n",
            "Train set | epoch:   0 |  51200/ 60000 batches | Loss: 0.3366\n",
            "Train set | epoch:   0 |  57600/ 60000 batches | Loss: 0.2827\n",
            "train Loss: 0.7238 Acc: 0.7623\n",
            "Train set | epoch:   0 |      0/ 10000 batches | Loss: 0.2510\n",
            "val Loss: 0.2654 Acc: 0.9190\n",
            "\n",
            "Training complete in 0m 26s\n",
            "Best val Acc: 0.919000\n"
          ]
        }
      ],
      "source": [
        "torch.manual_seed(seed)\n",
        "model = Baseline(n_feature, output_size).to(device)\n",
        "optimizer = optim.SGD(model.parameters(),lr=0.01, momentum=0.5, nesterov=True)\n",
        "model, loss_dict = train_model(model, optimizer)\n",
        "populate_result(optim_results, 'Nesterov_momentum', loss_dict['train'], loss_dict['val'])"
      ]
    },
    {
      "cell_type": "markdown",
      "metadata": {
        "id": "sA4rkrC5ZyFC"
      },
      "source": [
        "### AdaGrad"
      ]
    },
    {
      "cell_type": "code",
      "execution_count": 10,
      "metadata": {
        "colab": {
          "base_uri": "https://localhost:8080/"
        },
        "id": "I5uszv5IZyFC",
        "outputId": "139a4c9a-4dcf-444d-dc8b-dff7eb2d7bed"
      },
      "outputs": [
        {
          "output_type": "stream",
          "name": "stdout",
          "text": [
            "Epoch 0/0\n",
            "----------\n",
            "Train set | epoch:   0 |      0/ 60000 batches | Loss: 2.3086\n",
            "Train set | epoch:   0 |   6400/ 60000 batches | Loss: 0.5764\n",
            "Train set | epoch:   0 |  12800/ 60000 batches | Loss: 0.5498\n",
            "Train set | epoch:   0 |  19200/ 60000 batches | Loss: 0.3729\n",
            "Train set | epoch:   0 |  25600/ 60000 batches | Loss: 0.4958\n",
            "Train set | epoch:   0 |  32000/ 60000 batches | Loss: 0.3811\n",
            "Train set | epoch:   0 |  38400/ 60000 batches | Loss: 0.2752\n",
            "Train set | epoch:   0 |  44800/ 60000 batches | Loss: 0.2847\n",
            "Train set | epoch:   0 |  51200/ 60000 batches | Loss: 0.3045\n",
            "Train set | epoch:   0 |  57600/ 60000 batches | Loss: 0.2805\n",
            "train Loss: 0.4108 Acc: 0.8735\n",
            "Train set | epoch:   0 |      0/ 10000 batches | Loss: 0.2688\n",
            "val Loss: 0.2727 Acc: 0.9203\n",
            "\n",
            "Training complete in 0m 27s\n",
            "Best val Acc: 0.920300\n"
          ]
        }
      ],
      "source": [
        "torch.manual_seed(seed)\n",
        "model = Baseline(n_feature, output_size).to(device)\n",
        "optimizer = optim.Adagrad(model.parameters(),lr=0.01)\n",
        "model, loss_dict = train_model(model, optimizer)\n",
        "populate_result(optim_results, 'Adagrad', loss_dict['train'], loss_dict['val'])"
      ]
    },
    {
      "cell_type": "markdown",
      "metadata": {
        "id": "aVf50dTQZyFC"
      },
      "source": [
        "### RMSprop"
      ]
    },
    {
      "cell_type": "code",
      "execution_count": 11,
      "metadata": {
        "colab": {
          "base_uri": "https://localhost:8080/"
        },
        "id": "Dv7wgqhoZyFC",
        "outputId": "be44a04f-0dbb-4174-dc5c-2e8850342b55"
      },
      "outputs": [
        {
          "output_type": "stream",
          "name": "stdout",
          "text": [
            "Epoch 0/0\n",
            "----------\n",
            "Train set | epoch:   0 |      0/ 60000 batches | Loss: 2.3086\n",
            "Train set | epoch:   0 |   6400/ 60000 batches | Loss: 0.5165\n",
            "Train set | epoch:   0 |  12800/ 60000 batches | Loss: 0.2999\n",
            "Train set | epoch:   0 |  19200/ 60000 batches | Loss: 0.2864\n",
            "Train set | epoch:   0 |  25600/ 60000 batches | Loss: 0.3417\n",
            "Train set | epoch:   0 |  32000/ 60000 batches | Loss: 0.3683\n",
            "Train set | epoch:   0 |  38400/ 60000 batches | Loss: 0.1829\n",
            "Train set | epoch:   0 |  44800/ 60000 batches | Loss: 0.1320\n",
            "Train set | epoch:   0 |  51200/ 60000 batches | Loss: 0.1597\n",
            "Train set | epoch:   0 |  57600/ 60000 batches | Loss: 0.1581\n",
            "train Loss: 0.3351 Acc: 0.8923\n",
            "Train set | epoch:   0 |      0/ 10000 batches | Loss: 0.3722\n",
            "val Loss: 0.3028 Acc: 0.9108\n",
            "\n",
            "Training complete in 0m 28s\n",
            "Best val Acc: 0.910800\n"
          ]
        }
      ],
      "source": [
        "torch.manual_seed(seed)\n",
        "model = Baseline(n_feature, output_size).to(device)\n",
        "optimizer = optim.RMSprop(model.parameters(),lr=0.01, alpha=0.9)\n",
        "model, loss_dict = train_model(model, optimizer)\n",
        "populate_result(optim_results, 'RMSprop', loss_dict['train'], loss_dict['val'])"
      ]
    },
    {
      "cell_type": "markdown",
      "metadata": {
        "id": "2kP7QcsdZyFC"
      },
      "source": [
        "### Adam"
      ]
    },
    {
      "cell_type": "code",
      "execution_count": 12,
      "metadata": {
        "colab": {
          "base_uri": "https://localhost:8080/"
        },
        "id": "8MFGc7ZgZyFD",
        "outputId": "7fb9349a-a530-4c16-cffc-9cf984bbbd18"
      },
      "outputs": [
        {
          "output_type": "stream",
          "name": "stdout",
          "text": [
            "Epoch 0/0\n",
            "----------\n",
            "Train set | epoch:   0 |      0/ 60000 batches | Loss: 2.3086\n",
            "Train set | epoch:   0 |   6400/ 60000 batches | Loss: 0.3224\n",
            "Train set | epoch:   0 |  12800/ 60000 batches | Loss: 0.4379\n",
            "Train set | epoch:   0 |  19200/ 60000 batches | Loss: 0.1357\n",
            "Train set | epoch:   0 |  25600/ 60000 batches | Loss: 0.2364\n",
            "Train set | epoch:   0 |  32000/ 60000 batches | Loss: 0.2357\n",
            "Train set | epoch:   0 |  38400/ 60000 batches | Loss: 0.2735\n",
            "Train set | epoch:   0 |  44800/ 60000 batches | Loss: 0.0663\n",
            "Train set | epoch:   0 |  51200/ 60000 batches | Loss: 0.1503\n",
            "Train set | epoch:   0 |  57600/ 60000 batches | Loss: 0.1015\n",
            "train Loss: 0.2715 Acc: 0.9139\n",
            "Train set | epoch:   0 |      0/ 10000 batches | Loss: 0.1894\n",
            "val Loss: 0.1636 Acc: 0.9525\n",
            "\n",
            "Training complete in 0m 27s\n",
            "Best val Acc: 0.952500\n"
          ]
        }
      ],
      "source": [
        "torch.manual_seed(seed)\n",
        "model = Baseline(n_feature, output_size).to(device)\n",
        "optimizer = optim.Adam(model.parameters(),lr=0.01, betas=(0.9, 0.99))\n",
        "model, loss_dict = train_model(model, optimizer)\n",
        "populate_result(optim_results, 'Adam', loss_dict['train'], loss_dict['val'])"
      ]
    },
    {
      "cell_type": "code",
      "execution_count": 13,
      "metadata": {
        "colab": {
          "base_uri": "https://localhost:8080/",
          "height": 279
        },
        "id": "8BbIrY_SZyFD",
        "outputId": "e4438c62-1a93-4e81-e6cb-5d09e5323dfa"
      },
      "outputs": [
        {
          "output_type": "display_data",
          "data": {
            "text/plain": [
              "<Figure size 432x288 with 1 Axes>"
            ],
            "image/png": "[encoded data removed]"
          },
          "metadata": {
            "needs_background": "light"
          }
        }
      ],
      "source": [
        "# Plot optimization methods training results\n",
        "plot_loss(optim_results)"
      ]
    },
    {
      "cell_type": "code",
      "execution_count": 14,
      "metadata": {
        "colab": {
          "base_uri": "https://localhost:8080/",
          "height": 279
        },
        "id": "0nCbdTpyZyFD",
        "outputId": "bf1142a9-5fdd-4248-ba68-93feeb4fd4d9"
      },
      "outputs": [
        {
          "output_type": "display_data",
          "data": {
            "text/plain": [
              "<Figure size 432x288 with 1 Axes>"
            ],
            "image/png": "[encoded data removed]"
          },
          "metadata": {
            "needs_background": "light"
          }
        }
      ],
      "source": [
        "# Plot optimization methods validation results\n",
        "plot_best_loss(optim_results)"
      ]
    },
    {
      "cell_type": "markdown",
      "metadata": {
        "id": "XcdSSwFcZyFD"
      },
      "source": [
        "## Regularization\n",
        "\n",
        "https://pytorch.org/docs/stable/nn.html"
      ]
    },
    {
      "cell_type": "code",
      "execution_count": 15,
      "metadata": {
        "id": "RMPMkl39ZyFD"
      },
      "outputs": [],
      "source": [
        "# In order to see effects of regularization on validation set, we need to make some slight modification\n",
        "\n",
        "## Smaller training set\n",
        "mnist_datasets['train'].data = mnist_datasets['train'].data[:600]\n",
        "dataset_sizes = {x: len(mnist_datasets[x]) for x in ['train', 'val']}\n",
        "dataloaders['train'] = torch.utils.data.DataLoader(mnist_datasets['train'], \n",
        "                                                   batch_size=batch_size['train'], shuffle=True)\n",
        "\n",
        "## Longer training epochs\n",
        "train_epochs = 25\n",
        "verbose = False\n",
        "reg_results = {}"
      ]
    },
    {
      "cell_type": "markdown",
      "metadata": {
        "id": "ZPIMXufpZyFD"
      },
      "source": [
        "### Baseline model"
      ]
    },
    {
      "cell_type": "code",
      "execution_count": 16,
      "metadata": {
        "colab": {
          "base_uri": "https://localhost:8080/"
        },
        "id": "F8lHb09-ZyFD",
        "outputId": "d73b87e3-e46c-4171-aea7-f0423e5211f5"
      },
      "outputs": [
        {
          "output_type": "stream",
          "name": "stdout",
          "text": [
            "Epoch 0/24\n",
            "----------\n",
            "train Loss: 1.9928 Acc: 0.3383\n",
            "val Loss: 1.2420 Acc: 0.5742\n",
            "\n",
            "Epoch 1/24\n",
            "----------\n",
            "train Loss: 0.9415 Acc: 0.6767\n",
            "val Loss: 0.9017 Acc: 0.6950\n",
            "\n",
            "Epoch 2/24\n",
            "----------\n",
            "train Loss: 0.6352 Acc: 0.8100\n",
            "val Loss: 0.6481 Acc: 0.7816\n",
            "\n",
            "Epoch 3/24\n",
            "----------\n",
            "train Loss: 0.4278 Acc: 0.8667\n",
            "val Loss: 0.5225 Acc: 0.8363\n",
            "\n",
            "Epoch 4/24\n",
            "----------\n",
            "train Loss: 0.3029 Acc: 0.9100\n",
            "val Loss: 0.5730 Acc: 0.8267\n",
            "\n",
            "Epoch 5/24\n",
            "----------\n",
            "train Loss: 0.2385 Acc: 0.9133\n",
            "val Loss: 0.4542 Acc: 0.8563\n",
            "\n",
            "Epoch 6/24\n",
            "----------\n",
            "train Loss: 0.1826 Acc: 0.9433\n",
            "val Loss: 0.4739 Acc: 0.8637\n",
            "\n",
            "Epoch 7/24\n",
            "----------\n",
            "train Loss: 0.1552 Acc: 0.9500\n",
            "val Loss: 0.5104 Acc: 0.8498\n",
            "\n",
            "Epoch 8/24\n",
            "----------\n",
            "train Loss: 0.1131 Acc: 0.9733\n",
            "val Loss: 0.4862 Acc: 0.8730\n",
            "\n",
            "Epoch 9/24\n",
            "----------\n",
            "train Loss: 0.0805 Acc: 0.9700\n",
            "val Loss: 0.4898 Acc: 0.8788\n",
            "\n",
            "Epoch 10/24\n",
            "----------\n",
            "train Loss: 0.1116 Acc: 0.9583\n",
            "val Loss: 0.5275 Acc: 0.8713\n",
            "\n",
            "Epoch 11/24\n",
            "----------\n",
            "train Loss: 0.0693 Acc: 0.9767\n",
            "val Loss: 0.5239 Acc: 0.8663\n",
            "\n",
            "Epoch 12/24\n",
            "----------\n",
            "train Loss: 0.0751 Acc: 0.9833\n",
            "val Loss: 0.5263 Acc: 0.8762\n",
            "\n",
            "Epoch 13/24\n",
            "----------\n",
            "train Loss: 0.0711 Acc: 0.9783\n",
            "val Loss: 0.5573 Acc: 0.8689\n",
            "\n",
            "Epoch 14/24\n",
            "----------\n",
            "train Loss: 0.0830 Acc: 0.9667\n",
            "val Loss: 0.5796 Acc: 0.8645\n",
            "\n",
            "Epoch 15/24\n",
            "----------\n",
            "train Loss: 0.0620 Acc: 0.9767\n",
            "val Loss: 0.5295 Acc: 0.8764\n",
            "\n",
            "Epoch 16/24\n",
            "----------\n",
            "train Loss: 0.0231 Acc: 0.9950\n",
            "val Loss: 0.5528 Acc: 0.8874\n",
            "\n",
            "Epoch 17/24\n",
            "----------\n",
            "train Loss: 0.0151 Acc: 0.9967\n",
            "val Loss: 0.5523 Acc: 0.8916\n",
            "\n",
            "Epoch 18/24\n",
            "----------\n",
            "train Loss: 0.0134 Acc: 0.9967\n",
            "val Loss: 0.5904 Acc: 0.8891\n",
            "\n",
            "Epoch 19/24\n",
            "----------\n",
            "train Loss: 0.0112 Acc: 0.9967\n",
            "val Loss: 0.6130 Acc: 0.8883\n",
            "\n",
            "Epoch 20/24\n",
            "----------\n",
            "train Loss: 0.0095 Acc: 0.9983\n",
            "val Loss: 0.6212 Acc: 0.8826\n",
            "\n",
            "Epoch 21/24\n",
            "----------\n",
            "train Loss: 0.0057 Acc: 0.9983\n",
            "val Loss: 0.6163 Acc: 0.8909\n",
            "\n",
            "Epoch 22/24\n",
            "----------\n",
            "train Loss: 0.0063 Acc: 0.9983\n",
            "val Loss: 0.6563 Acc: 0.8849\n",
            "\n",
            "Epoch 23/24\n",
            "----------\n",
            "train Loss: 0.0046 Acc: 1.0000\n",
            "val Loss: 0.7708 Acc: 0.8650\n",
            "\n",
            "Epoch 24/24\n",
            "----------\n",
            "train Loss: 0.0052 Acc: 0.9983\n",
            "val Loss: 0.7326 Acc: 0.8750\n",
            "\n",
            "Training complete in 1m 22s\n",
            "Best val Acc: 0.891600\n"
          ]
        }
      ],
      "source": [
        "torch.manual_seed(seed)\n",
        "model = Baseline(n_feature, output_size).to(device)\n",
        "optimizer = optim.Adam(model.parameters(),lr=0.01)\n",
        "model, loss_dict = train_model(model, optimizer, num_epochs=train_epochs, verbose=verbose)\n",
        "populate_result(reg_results, 'Baseline', loss_dict['train'], loss_dict['val'])"
      ]
    },
    {
      "cell_type": "markdown",
      "metadata": {
        "id": "gPcuubzVZyFE"
      },
      "source": [
        "### L1/L2 regularization\n",
        "\n",
        "L2 regularization is included in most optimizers in PyTorch and can be controlled with the __weight_decay__ parameter.\n",
        "For L1 regularization, check out this post: https://discuss.pytorch.org/t/simple-l2-regularization/139"
      ]
    },
    {
      "cell_type": "markdown",
      "metadata": {
        "id": "qIItcgxqZyFE"
      },
      "source": [
        "### Adding Dropout Layer\n",
        "\n",
        "1. Check out documentations for __nn.Dropout()__. Modify the Baseline model and add dropout layer to the fully connected layers.\n",
        "2. Optionally, you may also check out documentations for __nn.Dropout2d()__ to learn how to add Dropout layer to convolution layers."
      ]
    },
    {
      "cell_type": "code",
      "execution_count": 17,
      "metadata": {
        "id": "f4-tFO2DZyFE"
      },
      "outputs": [],
      "source": [
        "class DropoutNet(nn.Module):\n",
        "    def __init__(self, input_size, n_feature, output_size, dropout_rate=0.5):\n",
        "        super(DropoutNet, self).__init__()\n",
        "        self.n_feature = n_feature\n",
        "        self.conv1 = nn.Sequential(nn.Conv2d(1, n_feature, kernel_size=5),\n",
        "                                   nn.ReLU(),\n",
        "                                   nn.MaxPool2d(2))\n",
        "        \n",
        "        self.conv2 = nn.Sequential(nn.Conv2d(n_feature, n_feature, kernel_size=5),\n",
        "                                   nn.ReLU(),\n",
        "                                   nn.MaxPool2d(2))\n",
        "        self.fc = nn.Sequential(nn.Linear(n_feature*4*4, 50),\n",
        "                                nn.ReLU(),\n",
        "                                nn.Dropout(dropout_rate),\n",
        "                                nn.Linear(50, 10))\n",
        "\n",
        "\n",
        "    def forward(self, x, verbose=False):\n",
        "        x = self.conv1(x)\n",
        "        x = self.conv2(x)\n",
        "        x = x.view(-1, self.n_feature*4*4)\n",
        "        x = self.fc(x)\n",
        "        return x"
      ]
    },
    {
      "cell_type": "code",
      "execution_count": 18,
      "metadata": {
        "colab": {
          "base_uri": "https://localhost:8080/"
        },
        "id": "H0MReLNMZyFE",
        "outputId": "9a321960-86f0-45a8-c1cd-a2be13e43cee"
      },
      "outputs": [
        {
          "output_type": "stream",
          "name": "stdout",
          "text": [
            "Epoch 0/24\n",
            "----------\n",
            "train Loss: 2.1493 Acc: 0.2617\n",
            "val Loss: 1.5007 Acc: 0.5894\n",
            "\n",
            "Epoch 1/24\n",
            "----------\n",
            "train Loss: 1.1514 Acc: 0.6117\n",
            "val Loss: 0.8469 Acc: 0.7067\n",
            "\n",
            "Epoch 2/24\n",
            "----------\n",
            "train Loss: 0.7710 Acc: 0.7533\n",
            "val Loss: 0.6485 Acc: 0.7872\n",
            "\n",
            "Epoch 3/24\n",
            "----------\n",
            "train Loss: 0.6683 Acc: 0.8017\n",
            "val Loss: 0.5881 Acc: 0.8156\n",
            "\n",
            "Epoch 4/24\n",
            "----------\n",
            "train Loss: 0.4746 Acc: 0.8567\n",
            "val Loss: 0.5074 Acc: 0.8374\n",
            "\n",
            "Epoch 5/24\n",
            "----------\n",
            "train Loss: 0.4285 Acc: 0.8617\n",
            "val Loss: 0.5257 Acc: 0.8438\n",
            "\n",
            "Epoch 6/24\n",
            "----------\n",
            "train Loss: 0.3919 Acc: 0.8817\n",
            "val Loss: 0.5012 Acc: 0.8403\n",
            "\n",
            "Epoch 7/24\n",
            "----------\n",
            "train Loss: 0.3315 Acc: 0.8900\n",
            "val Loss: 0.4077 Acc: 0.8755\n",
            "\n",
            "Epoch 8/24\n",
            "----------\n",
            "train Loss: 0.2776 Acc: 0.8983\n",
            "val Loss: 0.4853 Acc: 0.8628\n",
            "\n",
            "Epoch 9/24\n",
            "----------\n",
            "train Loss: 0.3266 Acc: 0.8867\n",
            "val Loss: 0.4367 Acc: 0.8661\n",
            "\n",
            "Epoch 10/24\n",
            "----------\n",
            "train Loss: 0.2864 Acc: 0.9033\n",
            "val Loss: 0.4301 Acc: 0.8693\n",
            "\n",
            "Epoch 11/24\n",
            "----------\n",
            "train Loss: 0.2095 Acc: 0.9217\n",
            "val Loss: 0.3934 Acc: 0.8898\n",
            "\n",
            "Epoch 12/24\n",
            "----------\n",
            "train Loss: 0.2130 Acc: 0.9300\n",
            "val Loss: 0.4167 Acc: 0.8873\n",
            "\n",
            "Epoch 13/24\n",
            "----------\n",
            "train Loss: 0.1633 Acc: 0.9483\n",
            "val Loss: 0.4200 Acc: 0.8871\n",
            "\n",
            "Epoch 14/24\n",
            "----------\n",
            "train Loss: 0.1843 Acc: 0.9317\n",
            "val Loss: 0.4089 Acc: 0.9009\n",
            "\n",
            "Epoch 15/24\n",
            "----------\n",
            "train Loss: 0.1895 Acc: 0.9233\n",
            "val Loss: 0.3826 Acc: 0.8972\n",
            "\n",
            "Epoch 16/24\n",
            "----------\n",
            "train Loss: 0.1834 Acc: 0.9267\n",
            "val Loss: 0.3923 Acc: 0.8977\n",
            "\n",
            "Epoch 17/24\n",
            "----------\n",
            "train Loss: 0.1783 Acc: 0.9333\n",
            "val Loss: 0.4540 Acc: 0.8889\n",
            "\n",
            "Epoch 18/24\n",
            "----------\n",
            "train Loss: 0.2381 Acc: 0.9100\n",
            "val Loss: 0.4319 Acc: 0.8936\n",
            "\n",
            "Epoch 19/24\n",
            "----------\n",
            "train Loss: 0.1854 Acc: 0.9350\n",
            "val Loss: 0.3985 Acc: 0.8956\n",
            "\n",
            "Epoch 20/24\n",
            "----------\n",
            "train Loss: 0.1411 Acc: 0.9533\n",
            "val Loss: 0.4364 Acc: 0.8947\n",
            "\n",
            "Epoch 21/24\n",
            "----------\n",
            "train Loss: 0.1354 Acc: 0.9567\n",
            "val Loss: 0.4667 Acc: 0.8945\n",
            "\n",
            "Epoch 22/24\n",
            "----------\n",
            "train Loss: 0.1570 Acc: 0.9417\n",
            "val Loss: 0.4712 Acc: 0.8999\n",
            "\n",
            "Epoch 23/24\n",
            "----------\n",
            "train Loss: 0.1352 Acc: 0.9633\n",
            "val Loss: 0.4886 Acc: 0.8884\n",
            "\n",
            "Epoch 24/24\n",
            "----------\n",
            "train Loss: 0.1388 Acc: 0.9417\n",
            "val Loss: 0.4272 Acc: 0.8977\n",
            "\n",
            "Training complete in 1m 19s\n",
            "Best val Acc: 0.900900\n"
          ]
        }
      ],
      "source": [
        "torch.manual_seed(seed)\n",
        "model = DropoutNet(input_size, n_feature, output_size, dropout_rate=0.3).to(device)\n",
        "optimizer = optim.Adam(model.parameters(),lr=0.01)\n",
        "model, loss_dict = train_model(model, optimizer, num_epochs=train_epochs, verbose=verbose)\n",
        "populate_result(reg_results, 'Dropout', loss_dict['train'], loss_dict['val'])"
      ]
    },
    {
      "cell_type": "markdown",
      "metadata": {
        "id": "-OF2ahsuZyFE"
      },
      "source": [
        "### Adding Batch Normalization\n",
        "1. What's the advantage of using batch normalization?\n",
        "    1. Allow each layer to train relatively more independently\n",
        "    2. Improve gradient flow through the network\n",
        "    3. Allows higher learning rate\n",
        "    4. Reduces strong dependence on initialization\n",
        "2. Implement batch normalization in __BatchnormNet__. Think about where you may want to insert the batch normalization layer."
      ]
    },
    {
      "cell_type": "code",
      "execution_count": 19,
      "metadata": {
        "id": "l9cWBAVtZyFE"
      },
      "outputs": [],
      "source": [
        "class BatchnormNet(nn.Module):\n",
        "    def __init__(self, n_feature, output_size):\n",
        "        super(BatchnormNet, self).__init__()\n",
        "        self.n_feature = n_feature\n",
        "        self.conv1 = nn.Sequential(nn.Conv2d(1, n_feature, kernel_size=5),\n",
        "                                   nn.BatchNorm2d(n_feature),\n",
        "                                   nn.MaxPool2d(2),\n",
        "                                   nn.ReLU())\n",
        "        \n",
        "        self.conv2 = nn.Sequential(nn.Conv2d(n_feature, n_feature, kernel_size=5),\n",
        "                                   nn.BatchNorm2d(n_feature),\n",
        "                                   nn.MaxPool2d(2),\n",
        "                                   nn.ReLU())\n",
        "        self.fc = nn.Sequential(nn.Linear(n_feature*4*4, 50),\n",
        "                                nn.BatchNorm1d(50),\n",
        "                                nn.ReLU(),\n",
        "                                nn.Linear(50, 10))\n",
        "\n",
        "\n",
        "    def forward(self, x, verbose=False):\n",
        "        x = self.conv1(x)\n",
        "        x = self.conv2(x)\n",
        "        x = x.view(-1, self.n_feature*4*4)\n",
        "        x = self.fc(x)\n",
        "        return x"
      ]
    },
    {
      "cell_type": "code",
      "execution_count": 20,
      "metadata": {
        "colab": {
          "base_uri": "https://localhost:8080/"
        },
        "id": "hJMAe9IHZyFF",
        "outputId": "55f6a512-fd21-4d9b-e3f1-cd996642d6ea"
      },
      "outputs": [
        {
          "output_type": "stream",
          "name": "stdout",
          "text": [
            "Epoch 0/24\n",
            "----------\n",
            "train Loss: 1.6792 Acc: 0.5433\n",
            "val Loss: 1.4510 Acc: 0.5818\n",
            "\n",
            "Epoch 1/24\n",
            "----------\n",
            "train Loss: 0.7504 Acc: 0.8350\n",
            "val Loss: 0.8319 Acc: 0.7333\n",
            "\n",
            "Epoch 2/24\n",
            "----------\n",
            "train Loss: 0.3811 Acc: 0.9067\n",
            "val Loss: 0.6209 Acc: 0.7990\n",
            "\n",
            "Epoch 3/24\n",
            "----------\n",
            "train Loss: 0.2288 Acc: 0.9433\n",
            "val Loss: 0.4267 Acc: 0.8621\n",
            "\n",
            "Epoch 4/24\n",
            "----------\n",
            "train Loss: 0.1522 Acc: 0.9583\n",
            "val Loss: 0.3633 Acc: 0.8809\n",
            "\n",
            "Epoch 5/24\n",
            "----------\n",
            "train Loss: 0.1094 Acc: 0.9833\n",
            "val Loss: 0.4754 Acc: 0.8607\n",
            "\n",
            "Epoch 6/24\n",
            "----------\n",
            "train Loss: 0.0978 Acc: 0.9800\n",
            "val Loss: 0.4189 Acc: 0.8674\n",
            "\n",
            "Epoch 7/24\n",
            "----------\n",
            "train Loss: 0.0697 Acc: 0.9867\n",
            "val Loss: 0.4056 Acc: 0.8765\n",
            "\n",
            "Epoch 8/24\n",
            "----------\n",
            "train Loss: 0.0567 Acc: 0.9883\n",
            "val Loss: 0.4883 Acc: 0.8522\n",
            "\n",
            "Epoch 9/24\n",
            "----------\n",
            "train Loss: 0.0573 Acc: 0.9867\n",
            "val Loss: 0.3954 Acc: 0.8756\n",
            "\n",
            "Epoch 10/24\n",
            "----------\n",
            "train Loss: 0.0458 Acc: 0.9933\n",
            "val Loss: 0.3983 Acc: 0.8759\n",
            "\n",
            "Epoch 11/24\n",
            "----------\n",
            "train Loss: 0.0325 Acc: 1.0000\n",
            "val Loss: 0.4323 Acc: 0.8734\n",
            "\n",
            "Epoch 12/24\n",
            "----------\n",
            "train Loss: 0.0229 Acc: 0.9983\n",
            "val Loss: 0.4399 Acc: 0.8699\n",
            "\n",
            "Epoch 13/24\n",
            "----------\n",
            "train Loss: 0.0198 Acc: 1.0000\n",
            "val Loss: 0.3648 Acc: 0.8903\n",
            "\n",
            "Epoch 14/24\n",
            "----------\n",
            "train Loss: 0.0144 Acc: 1.0000\n",
            "val Loss: 0.3395 Acc: 0.8978\n",
            "\n",
            "Epoch 15/24\n",
            "----------\n",
            "train Loss: 0.0107 Acc: 1.0000\n",
            "val Loss: 0.3762 Acc: 0.8883\n",
            "\n",
            "Epoch 16/24\n",
            "----------\n",
            "train Loss: 0.0092 Acc: 1.0000\n",
            "val Loss: 0.3587 Acc: 0.8931\n",
            "\n",
            "Epoch 17/24\n",
            "----------\n",
            "train Loss: 0.0078 Acc: 1.0000\n",
            "val Loss: 0.3350 Acc: 0.8999\n",
            "\n",
            "Epoch 18/24\n",
            "----------\n",
            "train Loss: 0.0075 Acc: 1.0000\n",
            "val Loss: 0.3463 Acc: 0.8977\n",
            "\n",
            "Epoch 19/24\n",
            "----------\n",
            "train Loss: 0.0083 Acc: 0.9983\n",
            "val Loss: 0.3751 Acc: 0.8927\n",
            "\n",
            "Epoch 20/24\n",
            "----------\n",
            "train Loss: 0.0067 Acc: 1.0000\n",
            "val Loss: 0.3732 Acc: 0.8939\n",
            "\n",
            "Epoch 21/24\n",
            "----------\n",
            "train Loss: 0.0063 Acc: 1.0000\n",
            "val Loss: 0.3919 Acc: 0.8882\n",
            "\n",
            "Epoch 22/24\n",
            "----------\n",
            "train Loss: 0.0040 Acc: 1.0000\n",
            "val Loss: 0.3618 Acc: 0.8985\n",
            "\n",
            "Epoch 23/24\n",
            "----------\n",
            "train Loss: 0.0040 Acc: 1.0000\n",
            "val Loss: 0.3642 Acc: 0.8979\n",
            "\n",
            "Epoch 24/24\n",
            "----------\n",
            "train Loss: 0.0051 Acc: 1.0000\n",
            "val Loss: 0.3544 Acc: 0.9003\n",
            "\n",
            "Training complete in 1m 22s\n",
            "Best val Acc: 0.900300\n"
          ]
        }
      ],
      "source": [
        "torch.manual_seed(seed)\n",
        "model = BatchnormNet(n_feature, output_size).to(device)\n",
        "optimizer = optim.Adam(model.parameters(),lr=0.01)\n",
        "model, loss_dict = train_model(model, optimizer, num_epochs=train_epochs, verbose=verbose)\n",
        "populate_result(reg_results, 'Batchnorm', loss_dict['train'], loss_dict['val'])"
      ]
    },
    {
      "cell_type": "code",
      "execution_count": 21,
      "metadata": {
        "colab": {
          "base_uri": "https://localhost:8080/",
          "height": 279
        },
        "id": "HjOAlizBZyFF",
        "outputId": "a6a5504b-4397-44b2-8336-20e2422fdb56"
      },
      "outputs": [
        {
          "output_type": "display_data",
          "data": {
            "text/plain": [
              "<Figure size 432x288 with 1 Axes>"
            ],
            "image/png": "[encoded data removed]"
          },
          "metadata": {
            "needs_background": "light"
          }
        }
      ],
      "source": [
        "plot_loss(reg_results)"
      ]
    },
    {
      "cell_type": "markdown",
      "metadata": {
        "id": "nvB-FoUOZyFF"
      },
      "source": [
        "Validation loss using Dropout and Batchnorm start to catch up with the loss of baseline model after baseline model overfits training data."
      ]
    },
    {
      "cell_type": "code",
      "execution_count": 22,
      "metadata": {
        "colab": {
          "base_uri": "https://localhost:8080/",
          "height": 283
        },
        "id": "jN98liVhZyFF",
        "outputId": "8a42ca1c-176b-4da5-83c7-5c10bacdc361"
      },
      "outputs": [
        {
          "output_type": "display_data",
          "data": {
            "text/plain": [
              "<Figure size 432x288 with 1 Axes>"
            ],
            "image/png": "[encoded data removed]"
          },
          "metadata": {
            "needs_background": "light"
          }
        }
      ],
      "source": [
        "plot_loss(reg_results, loss = 'val_loss', ylim=(0.1, 1))"
      ]
    },
    {
      "cell_type": "markdown",
      "metadata": {
        "id": "0YQN6s8LZyFF"
      },
      "source": [
        "## Exercise: parameter tunning\n",
        "\n",
        "We've introduced multiple regularization and optimization techniques to improve your model. How can you combine these techniques and perform grid search to find out a set of parameters that maximize your model performance on validation set? Are there other model architectures you'd like to try?"
      ]
    },
    {
      "cell_type": "code",
      "execution_count": null,
      "metadata": {
        "id": "U4dVyHojZyFF"
      },
      "outputs": [],
      "source": []
    }
  ],
  "metadata": {
    "kernelspec": {
      "display_name": "Python 3",
      "language": "python",
      "name": "python3"
    },
    "language_info": {
      "codemirror_mode": {
        "name": "ipython",
        "version": 3
      },
      "file_extension": ".py",
      "mimetype": "text/x-python",
      "name": "python",
      "nbconvert_exporter": "python",
      "pygments_lexer": "ipython3",
      "version": "3.6.7"
    },
    "colab": {
      "provenance": []
    },
    "widgets": {
      "application/vnd.jupyter.widget-state+json": {
        "c42ce2369c77465485d69a0c7cdf647c": {
          "model_module": "@jupyter-widgets/controls",
          "model_name": "HBoxModel",
          "model_module_version": "1.5.0",
          "state": {
            "_dom_classes": [],
            "_model_module": "@jupyter-widgets/controls",
            "_model_module_version": "1.5.0",
            "_model_name": "HBoxModel",
            "_view_count": null,
            "_view_module": "@jupyter-widgets/controls",
            "_view_module_version": "1.5.0",
            "_view_name": "HBoxView",
            "box_style": "",
            "children": [
              "IPY_MODEL_96447cf37e734a01a1af5dd8218783e4",
              "IPY_MODEL_92bb4b5560114a0d8283c406a22cc229",
              "IPY_MODEL_6476fd80c9b443c39fb69476aedd84af"
            ],
            "layout": "IPY_MODEL_03503418bd23431ab630d704a0134222"
          }
        },
        "96447cf37e734a01a1af5dd8218783e4": {
          "model_module": "@jupyter-widgets/controls",
          "model_name": "HTMLModel",
          "model_module_version": "1.5.0",
          "state": {
            "_dom_classes": [],
            "_model_module": "@jupyter-widgets/controls",
            "_model_module_version": "1.5.0",
            "_model_name": "HTMLModel",
            "_view_count": null,
            "_view_module": "@jupyter-widgets/controls",
            "_view_module_version": "1.5.0",
            "_view_name": "HTMLView",
            "description": "",
            "description_tooltip": null,
            "layout": "IPY_MODEL_4516212dd7e44b1da127deae81c5811f",
            "placeholder": "​",
            "style": "IPY_MODEL_05c14803479f4c07ae6f1f06e0d0b323",
            "value": "100%"
          }
        },
        "92bb4b5560114a0d8283c406a22cc229": {
          "model_module": "@jupyter-widgets/controls",
          "model_name": "FloatProgressModel",
          "model_module_version": "1.5.0",
          "state": {
            "_dom_classes": [],
            "_model_module": "@jupyter-widgets/controls",
            "_model_module_version": "1.5.0",
            "_model_name": "FloatProgressModel",
            "_view_count": null,
            "_view_module": "@jupyter-widgets/controls",
            "_view_module_version": "1.5.0",
            "_view_name": "ProgressView",
            "bar_style": "success",
            "description": "",
            "description_tooltip": null,
            "layout": "IPY_MODEL_9293c6e4e1cf4df6847d0c51155f38cb",
            "max": 9912422,
            "min": 0,
            "orientation": "horizontal",
            "style": "IPY_MODEL_21030997facb49ef9d1364edf90059da",
            "value": 9912422
          }
        },
        "6476fd80c9b443c39fb69476aedd84af": {
          "model_module": "@jupyter-widgets/controls",
          "model_name": "HTMLModel",
          "model_module_version": "1.5.0",
          "state": {
            "_dom_classes": [],
            "_model_module": "@jupyter-widgets/controls",
            "_model_module_version": "1.5.0",
            "_model_name": "HTMLModel",
            "_view_count": null,
            "_view_module": "@jupyter-widgets/controls",
            "_view_module_version": "1.5.0",
            "_view_name": "HTMLView",
            "description": "",
            "description_tooltip": null,
            "layout": "IPY_MODEL_9588ecc4db78406e9649731b5ce5f675",
            "placeholder": "​",
            "style": "IPY_MODEL_d471178ebc59444997cd8cd10a51ce58",
            "value": " 9912422/9912422 [00:00&lt;00:00, 86133511.17it/s]"
          }
        },
        "03503418bd23431ab630d704a0134222": {
          "model_module": "@jupyter-widgets/base",
          "model_name": "LayoutModel",
          "model_module_version": "1.2.0",
          "state": {
            "_model_module": "@jupyter-widgets/base",
            "_model_module_version": "1.2.0",
            "_model_name": "LayoutModel",
            "_view_count": null,
            "_view_module": "@jupyter-widgets/base",
            "_view_module_version": "1.2.0",
            "_view_name": "LayoutView",
            "align_content": null,
            "align_items": null,
            "align_self": null,
            "border": null,
            "bottom": null,
            "display": null,
            "flex": null,
            "flex_flow": null,
            "grid_area": null,
            "grid_auto_columns": null,
            "grid_auto_flow": null,
            "grid_auto_rows": null,
            "grid_column": null,
            "grid_gap": null,
            "grid_row": null,
            "grid_template_areas": null,
            "grid_template_columns": null,
            "grid_template_rows": null,
            "height": null,
            "justify_content": null,
            "justify_items": null,
            "left": null,
            "margin": null,
            "max_height": null,
            "max_width": null,
            "min_height": null,
            "min_width": null,
            "object_fit": null,
            "object_position": null,
            "order": null,
            "overflow": null,
            "overflow_x": null,
            "overflow_y": null,
            "padding": null,
            "right": null,
            "top": null,
            "visibility": null,
            "width": null
          }
        },
        "4516212dd7e44b1da127deae81c5811f": {
          "model_module": "@jupyter-widgets/base",
          "model_name": "LayoutModel",
          "model_module_version": "1.2.0",
          "state": {
            "_model_module": "@jupyter-widgets/base",
            "_model_module_version": "1.2.0",
            "_model_name": "LayoutModel",
            "_view_count": null,
            "_view_module": "@jupyter-widgets/base",
            "_view_module_version": "1.2.0",
            "_view_name": "LayoutView",
            "align_content": null,
            "align_items": null,
            "align_self": null,
            "border": null,
            "bottom": null,
            "display": null,
            "flex": null,
            "flex_flow": null,
            "grid_area": null,
            "grid_auto_columns": null,
            "grid_auto_flow": null,
            "grid_auto_rows": null,
            "grid_column": null,
            "grid_gap": null,
            "grid_row": null,
            "grid_template_areas": null,
            "grid_template_columns": null,
            "grid_template_rows": null,
            "height": null,
            "justify_content": null,
            "justify_items": null,
            "left": null,
            "margin": null,
            "max_height": null,
            "max_width": null,
            "min_height": null,
            "min_width": null,
            "object_fit": null,
            "object_position": null,
            "order": null,
            "overflow": null,
            "overflow_x": null,
            "overflow_y": null,
            "padding": null,
            "right": null,
            "top": null,
            "visibility": null,
            "width": null
          }
        },
        "05c14803479f4c07ae6f1f06e0d0b323": {
          "model_module": "@jupyter-widgets/controls",
          "model_name": "DescriptionStyleModel",
          "model_module_version": "1.5.0",
          "state": {
            "_model_module": "@jupyter-widgets/controls",
            "_model_module_version": "1.5.0",
            "_model_name": "DescriptionStyleModel",
            "_view_count": null,
            "_view_module": "@jupyter-widgets/base",
            "_view_module_version": "1.2.0",
            "_view_name": "StyleView",
            "description_width": ""
          }
        },
        "9293c6e4e1cf4df6847d0c51155f38cb": {
          "model_module": "@jupyter-widgets/base",
          "model_name": "LayoutModel",
          "model_module_version": "1.2.0",
          "state": {
            "_model_module": "@jupyter-widgets/base",
            "_model_module_version": "1.2.0",
            "_model_name": "LayoutModel",
            "_view_count": null,
            "_view_module": "@jupyter-widgets/base",
            "_view_module_version": "1.2.0",
            "_view_name": "LayoutView",
            "align_content": null,
            "align_items": null,
            "align_self": null,
            "border": null,
            "bottom": null,
            "display": null,
            "flex": null,
            "flex_flow": null,
            "grid_area": null,
            "grid_auto_columns": null,
            "grid_auto_flow": null,
            "grid_auto_rows": null,
            "grid_column": null,
            "grid_gap": null,
            "grid_row": null,
            "grid_template_areas": null,
            "grid_template_columns": null,
            "grid_template_rows": null,
            "height": null,
            "justify_content": null,
            "justify_items": null,
            "left": null,
            "margin": null,
            "max_height": null,
            "max_width": null,
            "min_height": null,
            "min_width": null,
            "object_fit": null,
            "object_position": null,
            "order": null,
            "overflow": null,
            "overflow_x": null,
            "overflow_y": null,
            "padding": null,
            "right": null,
            "top": null,
            "visibility": null,
            "width": null
          }
        },
        "21030997facb49ef9d1364edf90059da": {
          "model_module": "@jupyter-widgets/controls",
          "model_name": "ProgressStyleModel",
          "model_module_version": "1.5.0",
          "state": {
            "_model_module": "@jupyter-widgets/controls",
            "_model_module_version": "1.5.0",
            "_model_name": "ProgressStyleModel",
            "_view_count": null,
            "_view_module": "@jupyter-widgets/base",
            "_view_module_version": "1.2.0",
            "_view_name": "StyleView",
            "bar_color": null,
            "description_width": ""
          }
        },
        "9588ecc4db78406e9649731b5ce5f675": {
          "model_module": "@jupyter-widgets/base",
          "model_name": "LayoutModel",
          "model_module_version": "1.2.0",
          "state": {
            "_model_module": "@jupyter-widgets/base",
            "_model_module_version": "1.2.0",
            "_model_name": "LayoutModel",
            "_view_count": null,
            "_view_module": "@jupyter-widgets/base",
            "_view_module_version": "1.2.0",
            "_view_name": "LayoutView",
            "align_content": null,
            "align_items": null,
            "align_self": null,
            "border": null,
            "bottom": null,
            "display": null,
            "flex": null,
            "flex_flow": null,
            "grid_area": null,
            "grid_auto_columns": null,
            "grid_auto_flow": null,
            "grid_auto_rows": null,
            "grid_column": null,
            "grid_gap": null,
            "grid_row": null,
            "grid_template_areas": null,
            "grid_template_columns": null,
            "grid_template_rows": null,
            "height": null,
            "justify_content": null,
            "justify_items": null,
            "left": null,
            "margin": null,
            "max_height": null,
            "max_width": null,
            "min_height": null,
            "min_width": null,
            "object_fit": null,
            "object_position": null,
            "order": null,
            "overflow": null,
            "overflow_x": null,
            "overflow_y": null,
            "padding": null,
            "right": null,
            "top": null,
            "visibility": null,
            "width": null
          }
        },
        "d471178ebc59444997cd8cd10a51ce58": {
          "model_module": "@jupyter-widgets/controls",
          "model_name": "DescriptionStyleModel",
          "model_module_version": "1.5.0",
          "state": {
            "_model_module": "@jupyter-widgets/controls",
            "_model_module_version": "1.5.0",
            "_model_name": "DescriptionStyleModel",
            "_view_count": null,
            "_view_module": "@jupyter-widgets/base",
            "_view_module_version": "1.2.0",
            "_view_name": "StyleView",
            "description_width": ""
          }
        },
        "c4e2bf58a58943c9bd24091d2267537b": {
          "model_module": "@jupyter-widgets/controls",
          "model_name": "HBoxModel",
          "model_module_version": "1.5.0",
          "state": {
            "_dom_classes": [],
            "_model_module": "@jupyter-widgets/controls",
            "_model_module_version": "1.5.0",
            "_model_name": "HBoxModel",
            "_view_count": null,
            "_view_module": "@jupyter-widgets/controls",
            "_view_module_version": "1.5.0",
            "_view_name": "HBoxView",
            "box_style": "",
            "children": [
              "IPY_MODEL_d5e7a4b14815401d8d7b940bd00fe3cd",
              "IPY_MODEL_a1b2eab2bf744c20a5cffbb6b3b486de",
              "IPY_MODEL_26658f2d79d04a039025a80b5ae14b1b"
            ],
            "layout": "IPY_MODEL_a81d2730e1724681839cdd3af39f4b9e"
          }
        },
        "d5e7a4b14815401d8d7b940bd00fe3cd": {
          "model_module": "@jupyter-widgets/controls",
          "model_name": "HTMLModel",
          "model_module_version": "1.5.0",
          "state": {
            "_dom_classes": [],
            "_model_module": "@jupyter-widgets/controls",
            "_model_module_version": "1.5.0",
            "_model_name": "HTMLModel",
            "_view_count": null,
            "_view_module": "@jupyter-widgets/controls",
            "_view_module_version": "1.5.0",
            "_view_name": "HTMLView",
            "description": "",
            "description_tooltip": null,
            "layout": "IPY_MODEL_63f207ffcf89483f8a719d715d5a79ca",
            "placeholder": "​",
            "style": "IPY_MODEL_9d3307ebd62844f887f45ecff99befff",
            "value": "100%"
          }
        },
        "a1b2eab2bf744c20a5cffbb6b3b486de": {
          "model_module": "@jupyter-widgets/controls",
          "model_name": "FloatProgressModel",
          "model_module_version": "1.5.0",
          "state": {
            "_dom_classes": [],
            "_model_module": "@jupyter-widgets/controls",
            "_model_module_version": "1.5.0",
            "_model_name": "FloatProgressModel",
            "_view_count": null,
            "_view_module": "@jupyter-widgets/controls",
            "_view_module_version": "1.5.0",
            "_view_name": "ProgressView",
            "bar_style": "success",
            "description": "",
            "description_tooltip": null,
            "layout": "IPY_MODEL_35f220bb4a054a09aef44fd62014234e",
            "max": 28881,
            "min": 0,
            "orientation": "horizontal",
            "style": "IPY_MODEL_93367425935a4939a4656ac8dcf6bc5b",
            "value": 28881
          }
        },
        "26658f2d79d04a039025a80b5ae14b1b": {
          "model_module": "@jupyter-widgets/controls",
          "model_name": "HTMLModel",
          "model_module_version": "1.5.0",
          "state": {
            "_dom_classes": [],
            "_model_module": "@jupyter-widgets/controls",
            "_model_module_version": "1.5.0",
            "_model_name": "HTMLModel",
            "_view_count": null,
            "_view_module": "@jupyter-widgets/controls",
            "_view_module_version": "1.5.0",
            "_view_name": "HTMLView",
            "description": "",
            "description_tooltip": null,
            "layout": "IPY_MODEL_d742150b97264f859ff5794cfb91296a",
            "placeholder": "​",
            "style": "IPY_MODEL_14e390918c704d85a65db7e6e188b3f1",
            "value": " 28881/28881 [00:00&lt;00:00, 1193737.37it/s]"
          }
        },
        "a81d2730e1724681839cdd3af39f4b9e": {
          "model_module": "@jupyter-widgets/base",
          "model_name": "LayoutModel",
          "model_module_version": "1.2.0",
          "state": {
            "_model_module": "@jupyter-widgets/base",
            "_model_module_version": "1.2.0",
            "_model_name": "LayoutModel",
            "_view_count": null,
            "_view_module": "@jupyter-widgets/base",
            "_view_module_version": "1.2.0",
            "_view_name": "LayoutView",
            "align_content": null,
            "align_items": null,
            "align_self": null,
            "border": null,
            "bottom": null,
            "display": null,
            "flex": null,
            "flex_flow": null,
            "grid_area": null,
            "grid_auto_columns": null,
            "grid_auto_flow": null,
            "grid_auto_rows": null,
            "grid_column": null,
            "grid_gap": null,
            "grid_row": null,
            "grid_template_areas": null,
            "grid_template_columns": null,
            "grid_template_rows": null,
            "height": null,
            "justify_content": null,
            "justify_items": null,
            "left": null,
            "margin": null,
            "max_height": null,
            "max_width": null,
            "min_height": null,
            "min_width": null,
            "object_fit": null,
            "object_position": null,
            "order": null,
            "overflow": null,
            "overflow_x": null,
            "overflow_y": null,
            "padding": null,
            "right": null,
            "top": null,
            "visibility": null,
            "width": null
          }
        },
        "63f207ffcf89483f8a719d715d5a79ca": {
          "model_module": "@jupyter-widgets/base",
          "model_name": "LayoutModel",
          "model_module_version": "1.2.0",
          "state": {
            "_model_module": "@jupyter-widgets/base",
            "_model_module_version": "1.2.0",
            "_model_name": "LayoutModel",
            "_view_count": null,
            "_view_module": "@jupyter-widgets/base",
            "_view_module_version": "1.2.0",
            "_view_name": "LayoutView",
            "align_content": null,
            "align_items": null,
            "align_self": null,
            "border": null,
            "bottom": null,
            "display": null,
            "flex": null,
            "flex_flow": null,
            "grid_area": null,
            "grid_auto_columns": null,
            "grid_auto_flow": null,
            "grid_auto_rows": null,
            "grid_column": null,
            "grid_gap": null,
            "grid_row": null,
            "grid_template_areas": null,
            "grid_template_columns": null,
            "grid_template_rows": null,
            "height": null,
            "justify_content": null,
            "justify_items": null,
            "left": null,
            "margin": null,
            "max_height": null,
            "max_width": null,
            "min_height": null,
            "min_width": null,
            "object_fit": null,
            "object_position": null,
            "order": null,
            "overflow": null,
            "overflow_x": null,
            "overflow_y": null,
            "padding": null,
            "right": null,
            "top": null,
            "visibility": null,
            "width": null
          }
        },
        "9d3307ebd62844f887f45ecff99befff": {
          "model_module": "@jupyter-widgets/controls",
          "model_name": "DescriptionStyleModel",
          "model_module_version": "1.5.0",
          "state": {
            "_model_module": "@jupyter-widgets/controls",
            "_model_module_version": "1.5.0",
            "_model_name": "DescriptionStyleModel",
            "_view_count": null,
            "_view_module": "@jupyter-widgets/base",
            "_view_module_version": "1.2.0",
            "_view_name": "StyleView",
            "description_width": ""
          }
        },
        "35f220bb4a054a09aef44fd62014234e": {
          "model_module": "@jupyter-widgets/base",
          "model_name": "LayoutModel",
          "model_module_version": "1.2.0",
          "state": {
            "_model_module": "@jupyter-widgets/base",
            "_model_module_version": "1.2.0",
            "_model_name": "LayoutModel",
            "_view_count": null,
            "_view_module": "@jupyter-widgets/base",
            "_view_module_version": "1.2.0",
            "_view_name": "LayoutView",
            "align_content": null,
            "align_items": null,
            "align_self": null,
            "border": null,
            "bottom": null,
            "display": null,
            "flex": null,
            "flex_flow": null,
            "grid_area": null,
            "grid_auto_columns": null,
            "grid_auto_flow": null,
            "grid_auto_rows": null,
            "grid_column": null,
            "grid_gap": null,
            "grid_row": null,
            "grid_template_areas": null,
            "grid_template_columns": null,
            "grid_template_rows": null,
            "height": null,
            "justify_content": null,
            "justify_items": null,
            "left": null,
            "margin": null,
            "max_height": null,
            "max_width": null,
            "min_height": null,
            "min_width": null,
            "object_fit": null,
            "object_position": null,
            "order": null,
            "overflow": null,
            "overflow_x": null,
            "overflow_y": null,
            "padding": null,
            "right": null,
            "top": null,
            "visibility": null,
            "width": null
          }
        },
        "93367425935a4939a4656ac8dcf6bc5b": {
          "model_module": "@jupyter-widgets/controls",
          "model_name": "ProgressStyleModel",
          "model_module_version": "1.5.0",
          "state": {
            "_model_module": "@jupyter-widgets/controls",
            "_model_module_version": "1.5.0",
            "_model_name": "ProgressStyleModel",
            "_view_count": null,
            "_view_module": "@jupyter-widgets/base",
            "_view_module_version": "1.2.0",
            "_view_name": "StyleView",
            "bar_color": null,
            "description_width": ""
          }
        },
        "d742150b97264f859ff5794cfb91296a": {
          "model_module": "@jupyter-widgets/base",
          "model_name": "LayoutModel",
          "model_module_version": "1.2.0",
          "state": {
            "_model_module": "@jupyter-widgets/base",
            "_model_module_version": "1.2.0",
            "_model_name": "LayoutModel",
            "_view_count": null,
            "_view_module": "@jupyter-widgets/base",
            "_view_module_version": "1.2.0",
            "_view_name": "LayoutView",
            "align_content": null,
            "align_items": null,
            "align_self": null,
            "border": null,
            "bottom": null,
            "display": null,
            "flex": null,
            "flex_flow": null,
            "grid_area": null,
            "grid_auto_columns": null,
            "grid_auto_flow": null,
            "grid_auto_rows": null,
            "grid_column": null,
            "grid_gap": null,
            "grid_row": null,
            "grid_template_areas": null,
            "grid_template_columns": null,
            "grid_template_rows": null,
            "height": null,
            "justify_content": null,
            "justify_items": null,
            "left": null,
            "margin": null,
            "max_height": null,
            "max_width": null,
            "min_height": null,
            "min_width": null,
            "object_fit": null,
            "object_position": null,
            "order": null,
            "overflow": null,
            "overflow_x": null,
            "overflow_y": null,
            "padding": null,
            "right": null,
            "top": null,
            "visibility": null,
            "width": null
          }
        },
        "14e390918c704d85a65db7e6e188b3f1": {
          "model_module": "@jupyter-widgets/controls",
          "model_name": "DescriptionStyleModel",
          "model_module_version": "1.5.0",
          "state": {
            "_model_module": "@jupyter-widgets/controls",
            "_model_module_version": "1.5.0",
            "_model_name": "DescriptionStyleModel",
            "_view_count": null,
            "_view_module": "@jupyter-widgets/base",
            "_view_module_version": "1.2.0",
            "_view_name": "StyleView",
            "description_width": ""
          }
        },
        "441f49662f824a748cb70c9a2e560f69": {
          "model_module": "@jupyter-widgets/controls",
          "model_name": "HBoxModel",
          "model_module_version": "1.5.0",
          "state": {
            "_dom_classes": [],
            "_model_module": "@jupyter-widgets/controls",
            "_model_module_version": "1.5.0",
            "_model_name": "HBoxModel",
            "_view_count": null,
            "_view_module": "@jupyter-widgets/controls",
            "_view_module_version": "1.5.0",
            "_view_name": "HBoxView",
            "box_style": "",
            "children": [
              "IPY_MODEL_977105622bc148619b83c1f5c02034f2",
              "IPY_MODEL_80efabb290ab41ca93a718c83d0686f6",
              "IPY_MODEL_046cb7ea94244fd9b9b1e159d55345a4"
            ],
            "layout": "IPY_MODEL_11b728073658462db0ed42ca8c9b5a30"
          }
        },
        "977105622bc148619b83c1f5c02034f2": {
          "model_module": "@jupyter-widgets/controls",
          "model_name": "HTMLModel",
          "model_module_version": "1.5.0",
          "state": {
            "_dom_classes": [],
            "_model_module": "@jupyter-widgets/controls",
            "_model_module_version": "1.5.0",
            "_model_name": "HTMLModel",
            "_view_count": null,
            "_view_module": "@jupyter-widgets/controls",
            "_view_module_version": "1.5.0",
            "_view_name": "HTMLView",
            "description": "",
            "description_tooltip": null,
            "layout": "IPY_MODEL_5ed1bd09d3e1458690651845445c4314",
            "placeholder": "​",
            "style": "IPY_MODEL_6f5fe875ab07447892cd47affaa5a616",
            "value": "100%"
          }
        },
        "80efabb290ab41ca93a718c83d0686f6": {
          "model_module": "@jupyter-widgets/controls",
          "model_name": "FloatProgressModel",
          "model_module_version": "1.5.0",
          "state": {
            "_dom_classes": [],
            "_model_module": "@jupyter-widgets/controls",
            "_model_module_version": "1.5.0",
            "_model_name": "FloatProgressModel",
            "_view_count": null,
            "_view_module": "@jupyter-widgets/controls",
            "_view_module_version": "1.5.0",
            "_view_name": "ProgressView",
            "bar_style": "success",
            "description": "",
            "description_tooltip": null,
            "layout": "IPY_MODEL_44f45c5d445e46a3bab8b25693644642",
            "max": 1648877,
            "min": 0,
            "orientation": "horizontal",
            "style": "IPY_MODEL_fc6842059a2b470fafb960e787e8900e",
            "value": 1648877
          }
        },
        "046cb7ea94244fd9b9b1e159d55345a4": {
          "model_module": "@jupyter-widgets/controls",
          "model_name": "HTMLModel",
          "model_module_version": "1.5.0",
          "state": {
            "_dom_classes": [],
            "_model_module": "@jupyter-widgets/controls",
            "_model_module_version": "1.5.0",
            "_model_name": "HTMLModel",
            "_view_count": null,
            "_view_module": "@jupyter-widgets/controls",
            "_view_module_version": "1.5.0",
            "_view_name": "HTMLView",
            "description": "",
            "description_tooltip": null,
            "layout": "IPY_MODEL_469c0f1c21ce46288315adc63edd53ab",
            "placeholder": "​",
            "style": "IPY_MODEL_a45d5aced7e449a19e059e15ca683432",
            "value": " 1648877/1648877 [00:00&lt;00:00, 34399034.05it/s]"
          }
        },
        "11b728073658462db0ed42ca8c9b5a30": {
          "model_module": "@jupyter-widgets/base",
          "model_name": "LayoutModel",
          "model_module_version": "1.2.0",
          "state": {
            "_model_module": "@jupyter-widgets/base",
            "_model_module_version": "1.2.0",
            "_model_name": "LayoutModel",
            "_view_count": null,
            "_view_module": "@jupyter-widgets/base",
            "_view_module_version": "1.2.0",
            "_view_name": "LayoutView",
            "align_content": null,
            "align_items": null,
            "align_self": null,
            "border": null,
            "bottom": null,
            "display": null,
            "flex": null,
            "flex_flow": null,
            "grid_area": null,
            "grid_auto_columns": null,
            "grid_auto_flow": null,
            "grid_auto_rows": null,
            "grid_column": null,
            "grid_gap": null,
            "grid_row": null,
            "grid_template_areas": null,
            "grid_template_columns": null,
            "grid_template_rows": null,
            "height": null,
            "justify_content": null,
            "justify_items": null,
            "left": null,
            "margin": null,
            "max_height": null,
            "max_width": null,
            "min_height": null,
            "min_width": null,
            "object_fit": null,
            "object_position": null,
            "order": null,
            "overflow": null,
            "overflow_x": null,
            "overflow_y": null,
            "padding": null,
            "right": null,
            "top": null,
            "visibility": null,
            "width": null
          }
        },
        "5ed1bd09d3e1458690651845445c4314": {
          "model_module": "@jupyter-widgets/base",
          "model_name": "LayoutModel",
          "model_module_version": "1.2.0",
          "state": {
            "_model_module": "@jupyter-widgets/base",
            "_model_module_version": "1.2.0",
            "_model_name": "LayoutModel",
            "_view_count": null,
            "_view_module": "@jupyter-widgets/base",
            "_view_module_version": "1.2.0",
            "_view_name": "LayoutView",
            "align_content": null,
            "align_items": null,
            "align_self": null,
            "border": null,
            "bottom": null,
            "display": null,
            "flex": null,
            "flex_flow": null,
            "grid_area": null,
            "grid_auto_columns": null,
            "grid_auto_flow": null,
            "grid_auto_rows": null,
            "grid_column": null,
            "grid_gap": null,
            "grid_row": null,
            "grid_template_areas": null,
            "grid_template_columns": null,
            "grid_template_rows": null,
            "height": null,
            "justify_content": null,
            "justify_items": null,
            "left": null,
            "margin": null,
            "max_height": null,
            "max_width": null,
            "min_height": null,
            "min_width": null,
            "object_fit": null,
            "object_position": null,
            "order": null,
            "overflow": null,
            "overflow_x": null,
            "overflow_y": null,
            "padding": null,
            "right": null,
            "top": null,
            "visibility": null,
            "width": null
          }
        },
        "6f5fe875ab07447892cd47affaa5a616": {
          "model_module": "@jupyter-widgets/controls",
          "model_name": "DescriptionStyleModel",
          "model_module_version": "1.5.0",
          "state": {
            "_model_module": "@jupyter-widgets/controls",
            "_model_module_version": "1.5.0",
            "_model_name": "DescriptionStyleModel",
            "_view_count": null,
            "_view_module": "@jupyter-widgets/base",
            "_view_module_version": "1.2.0",
            "_view_name": "StyleView",
            "description_width": ""
          }
        },
        "44f45c5d445e46a3bab8b25693644642": {
          "model_module": "@jupyter-widgets/base",
          "model_name": "LayoutModel",
          "model_module_version": "1.2.0",
          "state": {
            "_model_module": "@jupyter-widgets/base",
            "_model_module_version": "1.2.0",
            "_model_name": "LayoutModel",
            "_view_count": null,
            "_view_module": "@jupyter-widgets/base",
            "_view_module_version": "1.2.0",
            "_view_name": "LayoutView",
            "align_content": null,
            "align_items": null,
            "align_self": null,
            "border": null,
            "bottom": null,
            "display": null,
            "flex": null,
            "flex_flow": null,
            "grid_area": null,
            "grid_auto_columns": null,
            "grid_auto_flow": null,
            "grid_auto_rows": null,
            "grid_column": null,
            "grid_gap": null,
            "grid_row": null,
            "grid_template_areas": null,
            "grid_template_columns": null,
            "grid_template_rows": null,
            "height": null,
            "justify_content": null,
            "justify_items": null,
            "left": null,
            "margin": null,
            "max_height": null,
            "max_width": null,
            "min_height": null,
            "min_width": null,
            "object_fit": null,
            "object_position": null,
            "order": null,
            "overflow": null,
            "overflow_x": null,
            "overflow_y": null,
            "padding": null,
            "right": null,
            "top": null,
            "visibility": null,
            "width": null
          }
        },
        "fc6842059a2b470fafb960e787e8900e": {
          "model_module": "@jupyter-widgets/controls",
          "model_name": "ProgressStyleModel",
          "model_module_version": "1.5.0",
          "state": {
            "_model_module": "@jupyter-widgets/controls",
            "_model_module_version": "1.5.0",
            "_model_name": "ProgressStyleModel",
            "_view_count": null,
            "_view_module": "@jupyter-widgets/base",
            "_view_module_version": "1.2.0",
            "_view_name": "StyleView",
            "bar_color": null,
            "description_width": ""
          }
        },
        "469c0f1c21ce46288315adc63edd53ab": {
          "model_module": "@jupyter-widgets/base",
          "model_name": "LayoutModel",
          "model_module_version": "1.2.0",
          "state": {
            "_model_module": "@jupyter-widgets/base",
            "_model_module_version": "1.2.0",
            "_model_name": "LayoutModel",
            "_view_count": null,
            "_view_module": "@jupyter-widgets/base",
            "_view_module_version": "1.2.0",
            "_view_name": "LayoutView",
            "align_content": null,
            "align_items": null,
            "align_self": null,
            "border": null,
            "bottom": null,
            "display": null,
            "flex": null,
            "flex_flow": null,
            "grid_area": null,
            "grid_auto_columns": null,
            "grid_auto_flow": null,
            "grid_auto_rows": null,
            "grid_column": null,
            "grid_gap": null,
            "grid_row": null,
            "grid_template_areas": null,
            "grid_template_columns": null,
            "grid_template_rows": null,
            "height": null,
            "justify_content": null,
            "justify_items": null,
            "left": null,
            "margin": null,
            "max_height": null,
            "max_width": null,
            "min_height": null,
            "min_width": null,
            "object_fit": null,
            "object_position": null,
            "order": null,
            "overflow": null,
            "overflow_x": null,
            "overflow_y": null,
            "padding": null,
            "right": null,
            "top": null,
            "visibility": null,
            "width": null
          }
        },
        "a45d5aced7e449a19e059e15ca683432": {
          "model_module": "@jupyter-widgets/controls",
          "model_name": "DescriptionStyleModel",
          "model_module_version": "1.5.0",
          "state": {
            "_model_module": "@jupyter-widgets/controls",
            "_model_module_version": "1.5.0",
            "_model_name": "DescriptionStyleModel",
            "_view_count": null,
            "_view_module": "@jupyter-widgets/base",
            "_view_module_version": "1.2.0",
            "_view_name": "StyleView",
            "description_width": ""
          }
        },
        "30c3ade150784b5faef07adc86833756": {
          "model_module": "@jupyter-widgets/controls",
          "model_name": "HBoxModel",
          "model_module_version": "1.5.0",
          "state": {
            "_dom_classes": [],
            "_model_module": "@jupyter-widgets/controls",
            "_model_module_version": "1.5.0",
            "_model_name": "HBoxModel",
            "_view_count": null,
            "_view_module": "@jupyter-widgets/controls",
            "_view_module_version": "1.5.0",
            "_view_name": "HBoxView",
            "box_style": "",
            "children": [
              "IPY_MODEL_970b95f8e67d46afbf0447bb6aebdd69",
              "IPY_MODEL_bbabaaa3675b40ae8d33f8fef70e7c44",
              "IPY_MODEL_45a6663e2caf42249fb2835a21dc1050"
            ],
            "layout": "IPY_MODEL_6ddd9a2382dc4760874f0bd9623df453"
          }
        },
        "970b95f8e67d46afbf0447bb6aebdd69": {
          "model_module": "@jupyter-widgets/controls",
          "model_name": "HTMLModel",
          "model_module_version": "1.5.0",
          "state": {
            "_dom_classes": [],
            "_model_module": "@jupyter-widgets/controls",
            "_model_module_version": "1.5.0",
            "_model_name": "HTMLModel",
            "_view_count": null,
            "_view_module": "@jupyter-widgets/controls",
            "_view_module_version": "1.5.0",
            "_view_name": "HTMLView",
            "description": "",
            "description_tooltip": null,
            "layout": "IPY_MODEL_36c0a592644245598d7290322326bc74",
            "placeholder": "​",
            "style": "IPY_MODEL_d04af27a3dfd4176b7e00a8db2827fc0",
            "value": "100%"
          }
        },
        "bbabaaa3675b40ae8d33f8fef70e7c44": {
          "model_module": "@jupyter-widgets/controls",
          "model_name": "FloatProgressModel",
          "model_module_version": "1.5.0",
          "state": {
            "_dom_classes": [],
            "_model_module": "@jupyter-widgets/controls",
            "_model_module_version": "1.5.0",
            "_model_name": "FloatProgressModel",
            "_view_count": null,
            "_view_module": "@jupyter-widgets/controls",
            "_view_module_version": "1.5.0",
            "_view_name": "ProgressView",
            "bar_style": "success",
            "description": "",
            "description_tooltip": null,
            "layout": "IPY_MODEL_163ea067b36a480ea75da0368a332432",
            "max": 4542,
            "min": 0,
            "orientation": "horizontal",
            "style": "IPY_MODEL_3d373dceed8a460a859681e139444649",
            "value": 4542
          }
        },
        "45a6663e2caf42249fb2835a21dc1050": {
          "model_module": "@jupyter-widgets/controls",
          "model_name": "HTMLModel",
          "model_module_version": "1.5.0",
          "state": {
            "_dom_classes": [],
            "_model_module": "@jupyter-widgets/controls",
            "_model_module_version": "1.5.0",
            "_model_name": "HTMLModel",
            "_view_count": null,
            "_view_module": "@jupyter-widgets/controls",
            "_view_module_version": "1.5.0",
            "_view_name": "HTMLView",
            "description": "",
            "description_tooltip": null,
            "layout": "IPY_MODEL_2478238b12a14869aa15fd17becc4400",
            "placeholder": "​",
            "style": "IPY_MODEL_cb204508df424d9582e4cac212448b03",
            "value": " 4542/4542 [00:00&lt;00:00, 202256.38it/s]"
          }
        },
        "6ddd9a2382dc4760874f0bd9623df453": {
          "model_module": "@jupyter-widgets/base",
          "model_name": "LayoutModel",
          "model_module_version": "1.2.0",
          "state": {
            "_model_module": "@jupyter-widgets/base",
            "_model_module_version": "1.2.0",
            "_model_name": "LayoutModel",
            "_view_count": null,
            "_view_module": "@jupyter-widgets/base",
            "_view_module_version": "1.2.0",
            "_view_name": "LayoutView",
            "align_content": null,
            "align_items": null,
            "align_self": null,
            "border": null,
            "bottom": null,
            "display": null,
            "flex": null,
            "flex_flow": null,
            "grid_area": null,
            "grid_auto_columns": null,
            "grid_auto_flow": null,
            "grid_auto_rows": null,
            "grid_column": null,
            "grid_gap": null,
            "grid_row": null,
            "grid_template_areas": null,
            "grid_template_columns": null,
            "grid_template_rows": null,
            "height": null,
            "justify_content": null,
            "justify_items": null,
            "left": null,
            "margin": null,
            "max_height": null,
            "max_width": null,
            "min_height": null,
            "min_width": null,
            "object_fit": null,
            "object_position": null,
            "order": null,
            "overflow": null,
            "overflow_x": null,
            "overflow_y": null,
            "padding": null,
            "right": null,
            "top": null,
            "visibility": null,
            "width": null
          }
        },
        "36c0a592644245598d7290322326bc74": {
          "model_module": "@jupyter-widgets/base",
          "model_name": "LayoutModel",
          "model_module_version": "1.2.0",
          "state": {
            "_model_module": "@jupyter-widgets/base",
            "_model_module_version": "1.2.0",
            "_model_name": "LayoutModel",
            "_view_count": null,
            "_view_module": "@jupyter-widgets/base",
            "_view_module_version": "1.2.0",
            "_view_name": "LayoutView",
            "align_content": null,
            "align_items": null,
            "align_self": null,
            "border": null,
            "bottom": null,
            "display": null,
            "flex": null,
            "flex_flow": null,
            "grid_area": null,
            "grid_auto_columns": null,
            "grid_auto_flow": null,
            "grid_auto_rows": null,
            "grid_column": null,
            "grid_gap": null,
            "grid_row": null,
            "grid_template_areas": null,
            "grid_template_columns": null,
            "grid_template_rows": null,
            "height": null,
            "justify_content": null,
            "justify_items": null,
            "left": null,
            "margin": null,
            "max_height": null,
            "max_width": null,
            "min_height": null,
            "min_width": null,
            "object_fit": null,
            "object_position": null,
            "order": null,
            "overflow": null,
            "overflow_x": null,
            "overflow_y": null,
            "padding": null,
            "right": null,
            "top": null,
            "visibility": null,
            "width": null
          }
        },
        "d04af27a3dfd4176b7e00a8db2827fc0": {
          "model_module": "@jupyter-widgets/controls",
          "model_name": "DescriptionStyleModel",
          "model_module_version": "1.5.0",
          "state": {
            "_model_module": "@jupyter-widgets/controls",
            "_model_module_version": "1.5.0",
            "_model_name": "DescriptionStyleModel",
            "_view_count": null,
            "_view_module": "@jupyter-widgets/base",
            "_view_module_version": "1.2.0",
            "_view_name": "StyleView",
            "description_width": ""
          }
        },
        "163ea067b36a480ea75da0368a332432": {
          "model_module": "@jupyter-widgets/base",
          "model_name": "LayoutModel",
          "model_module_version": "1.2.0",
          "state": {
            "_model_module": "@jupyter-widgets/base",
            "_model_module_version": "1.2.0",
            "_model_name": "LayoutModel",
            "_view_count": null,
            "_view_module": "@jupyter-widgets/base",
            "_view_module_version": "1.2.0",
            "_view_name": "LayoutView",
            "align_content": null,
            "align_items": null,
            "align_self": null,
            "border": null,
            "bottom": null,
            "display": null,
            "flex": null,
            "flex_flow": null,
            "grid_area": null,
            "grid_auto_columns": null,
            "grid_auto_flow": null,
            "grid_auto_rows": null,
            "grid_column": null,
            "grid_gap": null,
            "grid_row": null,
            "grid_template_areas": null,
            "grid_template_columns": null,
            "grid_template_rows": null,
            "height": null,
            "justify_content": null,
            "justify_items": null,
            "left": null,
            "margin": null,
            "max_height": null,
            "max_width": null,
            "min_height": null,
            "min_width": null,
            "object_fit": null,
            "object_position": null,
            "order": null,
            "overflow": null,
            "overflow_x": null,
            "overflow_y": null,
            "padding": null,
            "right": null,
            "top": null,
            "visibility": null,
            "width": null
          }
        },
        "3d373dceed8a460a859681e139444649": {
          "model_module": "@jupyter-widgets/controls",
          "model_name": "ProgressStyleModel",
          "model_module_version": "1.5.0",
          "state": {
            "_model_module": "@jupyter-widgets/controls",
            "_model_module_version": "1.5.0",
            "_model_name": "ProgressStyleModel",
            "_view_count": null,
            "_view_module": "@jupyter-widgets/base",
            "_view_module_version": "1.2.0",
            "_view_name": "StyleView",
            "bar_color": null,
            "description_width": ""
          }
        },
        "2478238b12a14869aa15fd17becc4400": {
          "model_module": "@jupyter-widgets/base",
          "model_name": "LayoutModel",
          "model_module_version": "1.2.0",
          "state": {
            "_model_module": "@jupyter-widgets/base",
            "_model_module_version": "1.2.0",
            "_model_name": "LayoutModel",
            "_view_count": null,
            "_view_module": "@jupyter-widgets/base",
            "_view_module_version": "1.2.0",
            "_view_name": "LayoutView",
            "align_content": null,
            "align_items": null,
            "align_self": null,
            "border": null,
            "bottom": null,
            "display": null,
            "flex": null,
            "flex_flow": null,
            "grid_area": null,
            "grid_auto_columns": null,
            "grid_auto_flow": null,
            "grid_auto_rows": null,
            "grid_column": null,
            "grid_gap": null,
            "grid_row": null,
            "grid_template_areas": null,
            "grid_template_columns": null,
            "grid_template_rows": null,
            "height": null,
            "justify_content": null,
            "justify_items": null,
            "left": null,
            "margin": null,
            "max_height": null,
            "max_width": null,
            "min_height": null,
            "min_width": null,
            "object_fit": null,
            "object_position": null,
            "order": null,
            "overflow": null,
            "overflow_x": null,
            "overflow_y": null,
            "padding": null,
            "right": null,
            "top": null,
            "visibility": null,
            "width": null
          }
        },
        "cb204508df424d9582e4cac212448b03": {
          "model_module": "@jupyter-widgets/controls",
          "model_name": "DescriptionStyleModel",
          "model_module_version": "1.5.0",
          "state": {
            "_model_module": "@jupyter-widgets/controls",
            "_model_module_version": "1.5.0",
            "_model_name": "DescriptionStyleModel",
            "_view_count": null,
            "_view_module": "@jupyter-widgets/base",
            "_view_module_version": "1.2.0",
            "_view_name": "StyleView",
            "description_width": ""
          }
        }
      }
    }
  },
  "nbformat": 4,
  "nbformat_minor": 0
}